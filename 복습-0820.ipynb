{
 "cells": [
  {
   "cell_type": "code",
   "execution_count": 1,
   "id": "9f698225",
   "metadata": {},
   "outputs": [],
   "source": [
    "import pandas as pd\n",
    "import pingouin as pg"
   ]
  },
  {
   "cell_type": "code",
   "execution_count": 2,
   "id": "d81ebf6a",
   "metadata": {},
   "outputs": [
    {
     "data": {
      "text/html": [
       "<div>\n",
       "<style scoped>\n",
       "    .dataframe tbody tr th:only-of-type {\n",
       "        vertical-align: middle;\n",
       "    }\n",
       "\n",
       "    .dataframe tbody tr th {\n",
       "        vertical-align: top;\n",
       "    }\n",
       "\n",
       "    .dataframe thead th {\n",
       "        text-align: right;\n",
       "    }\n",
       "</style>\n",
       "<table border=\"1\" class=\"dataframe\">\n",
       "  <thead>\n",
       "    <tr style=\"text-align: right;\">\n",
       "      <th></th>\n",
       "      <th>risk</th>\n",
       "      <th>fuel</th>\n",
       "      <th>aspiration</th>\n",
       "      <th>doors</th>\n",
       "      <th>body</th>\n",
       "      <th>wheels</th>\n",
       "      <th>engine_location</th>\n",
       "      <th>wheel_base</th>\n",
       "      <th>length</th>\n",
       "      <th>width</th>\n",
       "      <th>height</th>\n",
       "      <th>curb_weight</th>\n",
       "      <th>bore</th>\n",
       "      <th>stroke</th>\n",
       "      <th>compression_ratio</th>\n",
       "      <th>horsepower</th>\n",
       "      <th>peak_rpm</th>\n",
       "      <th>city_mpg</th>\n",
       "      <th>highway_mpg</th>\n",
       "    </tr>\n",
       "  </thead>\n",
       "  <tbody>\n",
       "    <tr>\n",
       "      <th>0</th>\n",
       "      <td>2</td>\n",
       "      <td>gas</td>\n",
       "      <td>std</td>\n",
       "      <td>four</td>\n",
       "      <td>sedan</td>\n",
       "      <td>fwd</td>\n",
       "      <td>front</td>\n",
       "      <td>99.8</td>\n",
       "      <td>176.6</td>\n",
       "      <td>66.2</td>\n",
       "      <td>54.3</td>\n",
       "      <td>2337</td>\n",
       "      <td>3.19</td>\n",
       "      <td>3.4</td>\n",
       "      <td>10.0</td>\n",
       "      <td>102</td>\n",
       "      <td>5500</td>\n",
       "      <td>24</td>\n",
       "      <td>30</td>\n",
       "    </tr>\n",
       "    <tr>\n",
       "      <th>1</th>\n",
       "      <td>2</td>\n",
       "      <td>gas</td>\n",
       "      <td>std</td>\n",
       "      <td>four</td>\n",
       "      <td>sedan</td>\n",
       "      <td>4wd</td>\n",
       "      <td>front</td>\n",
       "      <td>99.4</td>\n",
       "      <td>176.6</td>\n",
       "      <td>66.4</td>\n",
       "      <td>54.3</td>\n",
       "      <td>2824</td>\n",
       "      <td>3.19</td>\n",
       "      <td>3.4</td>\n",
       "      <td>8.0</td>\n",
       "      <td>115</td>\n",
       "      <td>5500</td>\n",
       "      <td>18</td>\n",
       "      <td>22</td>\n",
       "    </tr>\n",
       "    <tr>\n",
       "      <th>2</th>\n",
       "      <td>1</td>\n",
       "      <td>gas</td>\n",
       "      <td>std</td>\n",
       "      <td>four</td>\n",
       "      <td>sedan</td>\n",
       "      <td>fwd</td>\n",
       "      <td>front</td>\n",
       "      <td>105.8</td>\n",
       "      <td>192.7</td>\n",
       "      <td>71.4</td>\n",
       "      <td>55.7</td>\n",
       "      <td>2844</td>\n",
       "      <td>3.19</td>\n",
       "      <td>3.4</td>\n",
       "      <td>8.5</td>\n",
       "      <td>110</td>\n",
       "      <td>5500</td>\n",
       "      <td>19</td>\n",
       "      <td>25</td>\n",
       "    </tr>\n",
       "    <tr>\n",
       "      <th>3</th>\n",
       "      <td>1</td>\n",
       "      <td>gas</td>\n",
       "      <td>turbo</td>\n",
       "      <td>four</td>\n",
       "      <td>sedan</td>\n",
       "      <td>fwd</td>\n",
       "      <td>front</td>\n",
       "      <td>105.8</td>\n",
       "      <td>192.7</td>\n",
       "      <td>71.4</td>\n",
       "      <td>55.9</td>\n",
       "      <td>3086</td>\n",
       "      <td>3.13</td>\n",
       "      <td>3.4</td>\n",
       "      <td>8.3</td>\n",
       "      <td>140</td>\n",
       "      <td>5500</td>\n",
       "      <td>17</td>\n",
       "      <td>20</td>\n",
       "    </tr>\n",
       "    <tr>\n",
       "      <th>4</th>\n",
       "      <td>2</td>\n",
       "      <td>gas</td>\n",
       "      <td>std</td>\n",
       "      <td>two</td>\n",
       "      <td>sedan</td>\n",
       "      <td>rwd</td>\n",
       "      <td>front</td>\n",
       "      <td>101.2</td>\n",
       "      <td>176.8</td>\n",
       "      <td>64.8</td>\n",
       "      <td>54.3</td>\n",
       "      <td>2395</td>\n",
       "      <td>3.50</td>\n",
       "      <td>2.8</td>\n",
       "      <td>8.8</td>\n",
       "      <td>101</td>\n",
       "      <td>5800</td>\n",
       "      <td>23</td>\n",
       "      <td>29</td>\n",
       "    </tr>\n",
       "  </tbody>\n",
       "</table>\n",
       "</div>"
      ],
      "text/plain": [
       "   risk fuel aspiration doors   body wheels engine_location  wheel_base  \\\n",
       "0     2  gas        std  four  sedan    fwd           front        99.8   \n",
       "1     2  gas        std  four  sedan    4wd           front        99.4   \n",
       "2     1  gas        std  four  sedan    fwd           front       105.8   \n",
       "3     1  gas      turbo  four  sedan    fwd           front       105.8   \n",
       "4     2  gas        std   two  sedan    rwd           front       101.2   \n",
       "\n",
       "   length  width  height  curb_weight  bore  stroke  compression_ratio  \\\n",
       "0   176.6   66.2    54.3         2337  3.19     3.4               10.0   \n",
       "1   176.6   66.4    54.3         2824  3.19     3.4                8.0   \n",
       "2   192.7   71.4    55.7         2844  3.19     3.4                8.5   \n",
       "3   192.7   71.4    55.9         3086  3.13     3.4                8.3   \n",
       "4   176.8   64.8    54.3         2395  3.50     2.8                8.8   \n",
       "\n",
       "   horsepower  peak_rpm  city_mpg  highway_mpg  \n",
       "0         102      5500        24           30  \n",
       "1         115      5500        18           22  \n",
       "2         110      5500        19           25  \n",
       "3         140      5500        17           20  \n",
       "4         101      5800        23           29  "
      ]
     },
     "execution_count": 2,
     "metadata": {},
     "output_type": "execute_result"
    }
   ],
   "source": [
    "sf = pd.read_excel('data/safety.xlsx')\n",
    "sf.head()"
   ]
  },
  {
   "cell_type": "markdown",
   "id": "0f8f8272",
   "metadata": {},
   "source": [
    "# 기술 통계(descriptive statistics)\n",
    "    1-1. 데이터가 어디에 몰려 있나?\n",
    "    1-2. 데이터를 어떻게 나눌 수 있나?\n",
    "    1-3. 데이터가 어떻게 분포되어 있나?"
   ]
  },
  {
   "cell_type": "markdown",
   "id": "23890710",
   "metadata": {},
   "source": [
    "## 데이터가 어디에 몰려 있나?"
   ]
  },
  {
   "cell_type": "markdown",
   "id": "839ad3da",
   "metadata": {},
   "source": [
    "### 평균(mean)"
   ]
  },
  {
   "cell_type": "code",
   "execution_count": 3,
   "id": "6a81205d",
   "metadata": {},
   "outputs": [],
   "source": [
    "width_mean = sf.width.mean()"
   ]
  },
  {
   "cell_type": "markdown",
   "id": "f9705f92",
   "metadata": {},
   "source": [
    "### 중앙값(median)"
   ]
  },
  {
   "cell_type": "code",
   "execution_count": 4,
   "id": "6cb33241",
   "metadata": {
    "scrolled": true
   },
   "outputs": [],
   "source": [
    "width_median = sf.width.median()"
   ]
  },
  {
   "cell_type": "markdown",
   "id": "07fd97a0",
   "metadata": {},
   "source": [
    "### 최빈값(mode)"
   ]
  },
  {
   "cell_type": "code",
   "execution_count": 5,
   "id": "b0140ec6",
   "metadata": {},
   "outputs": [],
   "source": [
    "body_mode = sf.body.mode()"
   ]
  },
  {
   "cell_type": "markdown",
   "id": "87c351b4",
   "metadata": {},
   "source": [
    "## 데이터를 어떻게 나눌 수 있나?"
   ]
  },
  {
   "cell_type": "markdown",
   "id": "95cd0412",
   "metadata": {},
   "source": [
    "### 최대값"
   ]
  },
  {
   "cell_type": "code",
   "execution_count": 6,
   "id": "0c3d7a23",
   "metadata": {},
   "outputs": [],
   "source": [
    "width_max = sf.width.max()"
   ]
  },
  {
   "cell_type": "markdown",
   "id": "cdf85389",
   "metadata": {},
   "source": [
    "### 최소값"
   ]
  },
  {
   "cell_type": "code",
   "execution_count": 7,
   "id": "726e32fa",
   "metadata": {},
   "outputs": [],
   "source": [
    "width_min = sf.width.min()"
   ]
  },
  {
   "cell_type": "markdown",
   "id": "e741cce8",
   "metadata": {},
   "source": [
    "### 범위"
   ]
  },
  {
   "cell_type": "code",
   "execution_count": 9,
   "id": "3d57b72d",
   "metadata": {},
   "outputs": [
    {
     "data": {
      "text/plain": [
       "11.400000000000006"
      ]
     },
     "execution_count": 9,
     "metadata": {},
     "output_type": "execute_result"
    }
   ],
   "source": [
    "width_range = width_max - width_min\n",
    "width_range"
   ]
  },
  {
   "cell_type": "markdown",
   "id": "f8623bf7",
   "metadata": {},
   "source": [
    "### 분위수"
   ]
  },
  {
   "cell_type": "code",
   "execution_count": 10,
   "id": "66791b8c",
   "metadata": {},
   "outputs": [],
   "source": [
    "width_1q = sf.width.quantile(0.25)\n",
    "width_3q = sf.width.quantile(0.75)"
   ]
  },
  {
   "cell_type": "markdown",
   "id": "8d1beb37",
   "metadata": {},
   "source": [
    "### IQR"
   ]
  },
  {
   "cell_type": "code",
   "execution_count": 11,
   "id": "bbe47f64",
   "metadata": {},
   "outputs": [
    {
     "data": {
      "text/plain": [
       "2.5"
      ]
     },
     "execution_count": 11,
     "metadata": {},
     "output_type": "execute_result"
    }
   ],
   "source": [
    "width_iqr = width_3q - width_1q\n",
    "width_iqr"
   ]
  },
  {
   "cell_type": "markdown",
   "id": "622904c2",
   "metadata": {},
   "source": [
    "## 데이터가 어떻게 분포되어 있나?"
   ]
  },
  {
   "cell_type": "markdown",
   "id": "3c672021",
   "metadata": {},
   "source": [
    "### 편차: 평균과의 거리"
   ]
  },
  {
   "cell_type": "code",
   "execution_count": 13,
   "id": "1879a9bd",
   "metadata": {},
   "outputs": [
    {
     "data": {
      "text/plain": [
       "0.8075471698113432"
      ]
     },
     "execution_count": 13,
     "metadata": {},
     "output_type": "execute_result"
    }
   ],
   "source": [
    "width_mean - sf.loc[4, 'width']"
   ]
  },
  {
   "cell_type": "markdown",
   "id": "b0cc1204",
   "metadata": {},
   "source": [
    "### 분산(variance): 편차 제곱의 평균"
   ]
  },
  {
   "cell_type": "code",
   "execution_count": 14,
   "id": "56f62bb3",
   "metadata": {},
   "outputs": [
    {
     "data": {
      "text/plain": [
       "3.7942464771913063"
      ]
     },
     "execution_count": 14,
     "metadata": {},
     "output_type": "execute_result"
    }
   ],
   "source": [
    "sf.width.var()"
   ]
  },
  {
   "cell_type": "markdown",
   "id": "86d05434",
   "metadata": {},
   "source": [
    "### 표준편차(standard deviation): 분산의 제곱근"
   ]
  },
  {
   "cell_type": "code",
   "execution_count": 15,
   "id": "f7f1a338",
   "metadata": {},
   "outputs": [
    {
     "data": {
      "text/plain": [
       "1.9478825624742644"
      ]
     },
     "execution_count": 15,
     "metadata": {},
     "output_type": "execute_result"
    }
   ],
   "source": [
    "sf.width.std()"
   ]
  },
  {
   "cell_type": "markdown",
   "id": "b315866b",
   "metadata": {},
   "source": [
    "# 집단 간 비교\n",
    "\n",
    "자료형, 비교 집단 수에 따라 분석 방법이 다름\n",
    "\n",
    "1. t-test: 연속형 자료. 2개 이하 집단.\n",
    "2. 분산 분석: 연속형 자료. 3개 이상 집단\n",
    "3. 카이제곱 검정: 범주형 자료."
   ]
  },
  {
   "cell_type": "markdown",
   "id": "aaf697ad",
   "metadata": {},
   "source": [
    "## t-test"
   ]
  },
  {
   "cell_type": "markdown",
   "id": "6e833417",
   "metadata": {},
   "source": [
    "### 1개 집단\n",
    "- 1개 집단의 표본 평균을 모평균 추정치(기준값)와 비교할 때 사용\n",
    "- 예시: 초등학교 6학년 평균 키가 160cm 이라고 할때, 서울 광진 초등학교 6학년 1반의 평균 키를 측정해 비교"
   ]
  },
  {
   "cell_type": "code",
   "execution_count": 25,
   "id": "46f16f97",
   "metadata": {},
   "outputs": [
    {
     "data": {
      "text/html": [
       "<div>\n",
       "<style scoped>\n",
       "    .dataframe tbody tr th:only-of-type {\n",
       "        vertical-align: middle;\n",
       "    }\n",
       "\n",
       "    .dataframe tbody tr th {\n",
       "        vertical-align: top;\n",
       "    }\n",
       "\n",
       "    .dataframe thead th {\n",
       "        text-align: right;\n",
       "    }\n",
       "</style>\n",
       "<table border=\"1\" class=\"dataframe\">\n",
       "  <thead>\n",
       "    <tr style=\"text-align: right;\">\n",
       "      <th></th>\n",
       "      <th>T</th>\n",
       "      <th>dof</th>\n",
       "      <th>alternative</th>\n",
       "      <th>p-val</th>\n",
       "      <th>CI95%</th>\n",
       "      <th>cohen-d</th>\n",
       "      <th>BF10</th>\n",
       "      <th>power</th>\n",
       "    </tr>\n",
       "  </thead>\n",
       "  <tbody>\n",
       "    <tr>\n",
       "      <th>T-test</th>\n",
       "      <td>424.707171</td>\n",
       "      <td>158</td>\n",
       "      <td>two-sided</td>\n",
       "      <td>1.689765e-243</td>\n",
       "      <td>[65.3, 65.91]</td>\n",
       "      <td>33.68147</td>\n",
       "      <td>5.031e+238</td>\n",
       "      <td>1.0</td>\n",
       "    </tr>\n",
       "  </tbody>\n",
       "</table>\n",
       "</div>"
      ],
      "text/plain": [
       "                 T  dof alternative          p-val          CI95%   cohen-d  \\\n",
       "T-test  424.707171  158   two-sided  1.689765e-243  [65.3, 65.91]  33.68147   \n",
       "\n",
       "              BF10  power  \n",
       "T-test  5.031e+238    1.0  "
      ]
     },
     "execution_count": 25,
     "metadata": {},
     "output_type": "execute_result"
    }
   ],
   "source": [
    "# 신뢰 수준 95%에서 width 검정\n",
    "t = pg.ttest(sf.width, 0, confidence=0.95)\n",
    "t"
   ]
  },
  {
   "cell_type": "code",
   "execution_count": 26,
   "id": "508a9868",
   "metadata": {},
   "outputs": [
    {
     "data": {
      "text/plain": [
       "T-test    True\n",
       "Name: p-val, dtype: bool"
      ]
     },
     "execution_count": 26,
     "metadata": {},
     "output_type": "execute_result"
    }
   ],
   "source": [
    "# 통계적 유의성 확인: \n",
    "p = t['p-val'] \n",
    "p < 0.05"
   ]
  },
  {
   "cell_type": "code",
   "execution_count": 28,
   "id": "bf9329cb",
   "metadata": {},
   "outputs": [
    {
     "data": {
      "text/plain": [
       "T-test    [65.3, 65.91]\n",
       "Name: CI95%, dtype: object"
      ]
     },
     "execution_count": 28,
     "metadata": {},
     "output_type": "execute_result"
    }
   ],
   "source": [
    "# 신뢰 구간\n",
    "c_level = t['CI95%']\n",
    "c_level"
   ]
  },
  {
   "cell_type": "code",
   "execution_count": 30,
   "id": "f5aeb443",
   "metadata": {},
   "outputs": [
    {
     "data": {
      "text/html": [
       "<div>\n",
       "<style scoped>\n",
       "    .dataframe tbody tr th:only-of-type {\n",
       "        vertical-align: middle;\n",
       "    }\n",
       "\n",
       "    .dataframe tbody tr th {\n",
       "        vertical-align: top;\n",
       "    }\n",
       "\n",
       "    .dataframe thead th {\n",
       "        text-align: right;\n",
       "    }\n",
       "</style>\n",
       "<table border=\"1\" class=\"dataframe\">\n",
       "  <thead>\n",
       "    <tr style=\"text-align: right;\">\n",
       "      <th></th>\n",
       "      <th>department</th>\n",
       "      <th>job_level</th>\n",
       "      <th>marriage</th>\n",
       "      <th>rating</th>\n",
       "      <th>overtime</th>\n",
       "    </tr>\n",
       "  </thead>\n",
       "  <tbody>\n",
       "    <tr>\n",
       "      <th>0</th>\n",
       "      <td>Sales</td>\n",
       "      <td>Salaried</td>\n",
       "      <td>single</td>\n",
       "      <td>4</td>\n",
       "      <td>14</td>\n",
       "    </tr>\n",
       "    <tr>\n",
       "      <th>1</th>\n",
       "      <td>Engineering</td>\n",
       "      <td>Hourly</td>\n",
       "      <td>single</td>\n",
       "      <td>4</td>\n",
       "      <td>8</td>\n",
       "    </tr>\n",
       "    <tr>\n",
       "      <th>2</th>\n",
       "      <td>Engineering</td>\n",
       "      <td>Hourly</td>\n",
       "      <td>single</td>\n",
       "      <td>4</td>\n",
       "      <td>4</td>\n",
       "    </tr>\n",
       "    <tr>\n",
       "      <th>3</th>\n",
       "      <td>Engineering</td>\n",
       "      <td>Salaried</td>\n",
       "      <td>married</td>\n",
       "      <td>4</td>\n",
       "      <td>0</td>\n",
       "    </tr>\n",
       "    <tr>\n",
       "      <th>4</th>\n",
       "      <td>Engineering</td>\n",
       "      <td>Hourly</td>\n",
       "      <td>married</td>\n",
       "      <td>2</td>\n",
       "      <td>21</td>\n",
       "    </tr>\n",
       "  </tbody>\n",
       "</table>\n",
       "</div>"
      ],
      "text/plain": [
       "    department job_level marriage  rating  overtime\n",
       "0        Sales  Salaried   single       4        14\n",
       "1  Engineering    Hourly   single       4         8\n",
       "2  Engineering    Hourly   single       4         4\n",
       "3  Engineering  Salaried  married       4         0\n",
       "4  Engineering    Hourly  married       2        21"
      ]
     },
     "execution_count": 30,
     "metadata": {},
     "output_type": "execute_result"
    }
   ],
   "source": [
    "hr = pd.read_excel('data/hr.xlsx')\n",
    "hr.head()"
   ]
  },
  {
   "cell_type": "code",
   "execution_count": 32,
   "id": "7ebd9284",
   "metadata": {},
   "outputs": [
    {
     "data": {
      "text/plain": [
       "T-test    True\n",
       "Name: p-val, dtype: bool"
      ]
     },
     "execution_count": 32,
     "metadata": {},
     "output_type": "execute_result"
    }
   ],
   "source": [
    "pg.ttest(hr.overtime, 12)['p-val'] < 0.05"
   ]
  },
  {
   "cell_type": "markdown",
   "id": "ca38bb13",
   "metadata": {},
   "source": [
    "### 2개 집단\n",
    "2개 집단의 표본 평균을 비교해서 같지 않으면 귀무가설 기각(A-B = 0)"
   ]
  },
  {
   "cell_type": "markdown",
   "id": "97299778",
   "metadata": {},
   "source": [
    "1. 유의수준 5%에서 결혼 여부에 따른 rating 비교"
   ]
  },
  {
   "cell_type": "code",
   "execution_count": 46,
   "id": "1db165b0",
   "metadata": {},
   "outputs": [],
   "source": [
    "# 1. 결혼 여부에 따른 rating \n",
    "\n",
    "single_rating = hr[hr.marriage == 'single'].rating\n",
    "married_rating = hr[hr.marriage == 'married'].rating"
   ]
  },
  {
   "cell_type": "code",
   "execution_count": 47,
   "id": "6adcebc6",
   "metadata": {},
   "outputs": [
    {
     "data": {
      "text/html": [
       "<div>\n",
       "<style scoped>\n",
       "    .dataframe tbody tr th:only-of-type {\n",
       "        vertical-align: middle;\n",
       "    }\n",
       "\n",
       "    .dataframe tbody tr th {\n",
       "        vertical-align: top;\n",
       "    }\n",
       "\n",
       "    .dataframe thead th {\n",
       "        text-align: right;\n",
       "    }\n",
       "</style>\n",
       "<table border=\"1\" class=\"dataframe\">\n",
       "  <thead>\n",
       "    <tr style=\"text-align: right;\">\n",
       "      <th></th>\n",
       "      <th>T</th>\n",
       "      <th>dof</th>\n",
       "      <th>alternative</th>\n",
       "      <th>p-val</th>\n",
       "      <th>CI95%</th>\n",
       "      <th>cohen-d</th>\n",
       "      <th>BF10</th>\n",
       "      <th>power</th>\n",
       "    </tr>\n",
       "  </thead>\n",
       "  <tbody>\n",
       "    <tr>\n",
       "      <th>T-test</th>\n",
       "      <td>-3.126582</td>\n",
       "      <td>1425.438569</td>\n",
       "      <td>two-sided</td>\n",
       "      <td>0.001804</td>\n",
       "      <td>[-0.28, -0.07]</td>\n",
       "      <td>0.163818</td>\n",
       "      <td>7.294</td>\n",
       "      <td>0.88023</td>\n",
       "    </tr>\n",
       "  </tbody>\n",
       "</table>\n",
       "</div>"
      ],
      "text/plain": [
       "               T          dof alternative     p-val           CI95%   cohen-d  \\\n",
       "T-test -3.126582  1425.438569   two-sided  0.001804  [-0.28, -0.07]  0.163818   \n",
       "\n",
       "         BF10    power  \n",
       "T-test  7.294  0.88023  "
      ]
     },
     "execution_count": 47,
     "metadata": {},
     "output_type": "execute_result"
    }
   ],
   "source": [
    "# 2. t-test\n",
    "\n",
    "t = pg.ttest(single_rating, married_rating, confidence=0.95)\n",
    "t"
   ]
  },
  {
   "cell_type": "code",
   "execution_count": 45,
   "id": "c5a2a4ab",
   "metadata": {},
   "outputs": [
    {
     "data": {
      "text/plain": [
       "T-test    True\n",
       "Name: p-val, dtype: bool"
      ]
     },
     "execution_count": 45,
     "metadata": {},
     "output_type": "execute_result"
    }
   ],
   "source": [
    "# 3. 유의성 검정\n",
    "t['p-val'] < 0.05"
   ]
  },
  {
   "cell_type": "markdown",
   "id": "a073bbe3",
   "metadata": {},
   "source": [
    "2. 유의수준 5%에서 결혼 여부에 따른 overtime 비교"
   ]
  },
  {
   "cell_type": "code",
   "execution_count": 48,
   "id": "548c68c4",
   "metadata": {},
   "outputs": [],
   "source": [
    "single_overtime = hr[hr.marriage == 'single'].overtime\n",
    "married_overtime = hr[hr.marriage == 'married'].overtime"
   ]
  },
  {
   "cell_type": "code",
   "execution_count": 49,
   "id": "a284960f",
   "metadata": {},
   "outputs": [
    {
     "data": {
      "text/html": [
       "<div>\n",
       "<style scoped>\n",
       "    .dataframe tbody tr th:only-of-type {\n",
       "        vertical-align: middle;\n",
       "    }\n",
       "\n",
       "    .dataframe tbody tr th {\n",
       "        vertical-align: top;\n",
       "    }\n",
       "\n",
       "    .dataframe thead th {\n",
       "        text-align: right;\n",
       "    }\n",
       "</style>\n",
       "<table border=\"1\" class=\"dataframe\">\n",
       "  <thead>\n",
       "    <tr style=\"text-align: right;\">\n",
       "      <th></th>\n",
       "      <th>T</th>\n",
       "      <th>dof</th>\n",
       "      <th>alternative</th>\n",
       "      <th>p-val</th>\n",
       "      <th>CI95%</th>\n",
       "      <th>cohen-d</th>\n",
       "      <th>BF10</th>\n",
       "      <th>power</th>\n",
       "    </tr>\n",
       "  </thead>\n",
       "  <tbody>\n",
       "    <tr>\n",
       "      <th>T-test</th>\n",
       "      <td>0.498229</td>\n",
       "      <td>1465.031434</td>\n",
       "      <td>two-sided</td>\n",
       "      <td>0.618398</td>\n",
       "      <td>[-0.72, 1.21]</td>\n",
       "      <td>0.025978</td>\n",
       "      <td>0.066</td>\n",
       "      <td>0.078781</td>\n",
       "    </tr>\n",
       "  </tbody>\n",
       "</table>\n",
       "</div>"
      ],
      "text/plain": [
       "               T          dof alternative     p-val          CI95%   cohen-d  \\\n",
       "T-test  0.498229  1465.031434   two-sided  0.618398  [-0.72, 1.21]  0.025978   \n",
       "\n",
       "         BF10     power  \n",
       "T-test  0.066  0.078781  "
      ]
     },
     "execution_count": 49,
     "metadata": {},
     "output_type": "execute_result"
    }
   ],
   "source": [
    "t = pg.ttest(single_overtime, married_overtime)\n",
    "t"
   ]
  },
  {
   "cell_type": "code",
   "execution_count": 50,
   "id": "f8692d11",
   "metadata": {
    "scrolled": false
   },
   "outputs": [
    {
     "data": {
      "text/plain": [
       "T-test    False\n",
       "Name: p-val, dtype: bool"
      ]
     },
     "execution_count": 50,
     "metadata": {},
     "output_type": "execute_result"
    }
   ],
   "source": [
    "t['p-val'] < 0.05"
   ]
  },
  {
   "cell_type": "markdown",
   "id": "92b4f80e",
   "metadata": {},
   "source": [
    "### 효과 크기(effect size)\n",
    "    1. 코헨의 d\n",
    "    2. 에타 제곱"
   ]
  },
  {
   "cell_type": "code",
   "execution_count": 58,
   "id": "88581e60",
   "metadata": {},
   "outputs": [
    {
     "data": {
      "text/plain": [
       "-0.16381785049867503"
      ]
     },
     "execution_count": 58,
     "metadata": {},
     "output_type": "execute_result"
    }
   ],
   "source": [
    "# 1. 코헨의 d\n",
    "t['cohen-d']\n",
    "\n",
    "# 또는 \n",
    "pg.compute_effsize(single_rating, married_rating, eftype='cohen')"
   ]
  },
  {
   "cell_type": "code",
   "execution_count": 57,
   "id": "6826e122",
   "metadata": {},
   "outputs": [
    {
     "data": {
      "text/plain": [
       "0.006664360361763945"
      ]
     },
     "execution_count": 57,
     "metadata": {},
     "output_type": "execute_result"
    }
   ],
   "source": [
    "# 2. 에타 제곱\n",
    "pg.compute_effsize(single_rating, married_rating, eftype='eta-square')"
   ]
  },
  {
   "cell_type": "markdown",
   "id": "9d53613e",
   "metadata": {},
   "source": [
    "## 분산 분석과 사후 검정"
   ]
  },
  {
   "cell_type": "markdown",
   "id": "a9fa0cd5",
   "metadata": {},
   "source": [
    "### 분산 분석(ANOVA)\n",
    "\n",
    "분산이 같다는 가정 하에 ANOVA 분석 실시"
   ]
  },
  {
   "cell_type": "markdown",
   "id": "b27a981c",
   "metadata": {},
   "source": [
    "1. 유의수준 5%에서 휠 종류에 따라 risk에 차이가 있는지 비교"
   ]
  },
  {
   "cell_type": "code",
   "execution_count": 62,
   "id": "fe3d212b",
   "metadata": {},
   "outputs": [
    {
     "data": {
      "text/html": [
       "<div>\n",
       "<style scoped>\n",
       "    .dataframe tbody tr th:only-of-type {\n",
       "        vertical-align: middle;\n",
       "    }\n",
       "\n",
       "    .dataframe tbody tr th {\n",
       "        vertical-align: top;\n",
       "    }\n",
       "\n",
       "    .dataframe thead th {\n",
       "        text-align: right;\n",
       "    }\n",
       "</style>\n",
       "<table border=\"1\" class=\"dataframe\">\n",
       "  <thead>\n",
       "    <tr style=\"text-align: right;\">\n",
       "      <th></th>\n",
       "      <th>risk</th>\n",
       "      <th>fuel</th>\n",
       "      <th>aspiration</th>\n",
       "      <th>doors</th>\n",
       "      <th>body</th>\n",
       "      <th>wheels</th>\n",
       "      <th>engine_location</th>\n",
       "      <th>wheel_base</th>\n",
       "      <th>length</th>\n",
       "      <th>width</th>\n",
       "      <th>height</th>\n",
       "      <th>curb_weight</th>\n",
       "      <th>bore</th>\n",
       "      <th>stroke</th>\n",
       "      <th>compression_ratio</th>\n",
       "      <th>horsepower</th>\n",
       "      <th>peak_rpm</th>\n",
       "      <th>city_mpg</th>\n",
       "      <th>highway_mpg</th>\n",
       "    </tr>\n",
       "  </thead>\n",
       "  <tbody>\n",
       "    <tr>\n",
       "      <th>0</th>\n",
       "      <td>2</td>\n",
       "      <td>gas</td>\n",
       "      <td>std</td>\n",
       "      <td>four</td>\n",
       "      <td>sedan</td>\n",
       "      <td>fwd</td>\n",
       "      <td>front</td>\n",
       "      <td>99.8</td>\n",
       "      <td>176.6</td>\n",
       "      <td>66.2</td>\n",
       "      <td>54.3</td>\n",
       "      <td>2337</td>\n",
       "      <td>3.19</td>\n",
       "      <td>3.4</td>\n",
       "      <td>10.0</td>\n",
       "      <td>102</td>\n",
       "      <td>5500</td>\n",
       "      <td>24</td>\n",
       "      <td>30</td>\n",
       "    </tr>\n",
       "    <tr>\n",
       "      <th>1</th>\n",
       "      <td>2</td>\n",
       "      <td>gas</td>\n",
       "      <td>std</td>\n",
       "      <td>four</td>\n",
       "      <td>sedan</td>\n",
       "      <td>4wd</td>\n",
       "      <td>front</td>\n",
       "      <td>99.4</td>\n",
       "      <td>176.6</td>\n",
       "      <td>66.4</td>\n",
       "      <td>54.3</td>\n",
       "      <td>2824</td>\n",
       "      <td>3.19</td>\n",
       "      <td>3.4</td>\n",
       "      <td>8.0</td>\n",
       "      <td>115</td>\n",
       "      <td>5500</td>\n",
       "      <td>18</td>\n",
       "      <td>22</td>\n",
       "    </tr>\n",
       "    <tr>\n",
       "      <th>2</th>\n",
       "      <td>1</td>\n",
       "      <td>gas</td>\n",
       "      <td>std</td>\n",
       "      <td>four</td>\n",
       "      <td>sedan</td>\n",
       "      <td>fwd</td>\n",
       "      <td>front</td>\n",
       "      <td>105.8</td>\n",
       "      <td>192.7</td>\n",
       "      <td>71.4</td>\n",
       "      <td>55.7</td>\n",
       "      <td>2844</td>\n",
       "      <td>3.19</td>\n",
       "      <td>3.4</td>\n",
       "      <td>8.5</td>\n",
       "      <td>110</td>\n",
       "      <td>5500</td>\n",
       "      <td>19</td>\n",
       "      <td>25</td>\n",
       "    </tr>\n",
       "    <tr>\n",
       "      <th>3</th>\n",
       "      <td>1</td>\n",
       "      <td>gas</td>\n",
       "      <td>turbo</td>\n",
       "      <td>four</td>\n",
       "      <td>sedan</td>\n",
       "      <td>fwd</td>\n",
       "      <td>front</td>\n",
       "      <td>105.8</td>\n",
       "      <td>192.7</td>\n",
       "      <td>71.4</td>\n",
       "      <td>55.9</td>\n",
       "      <td>3086</td>\n",
       "      <td>3.13</td>\n",
       "      <td>3.4</td>\n",
       "      <td>8.3</td>\n",
       "      <td>140</td>\n",
       "      <td>5500</td>\n",
       "      <td>17</td>\n",
       "      <td>20</td>\n",
       "    </tr>\n",
       "    <tr>\n",
       "      <th>4</th>\n",
       "      <td>2</td>\n",
       "      <td>gas</td>\n",
       "      <td>std</td>\n",
       "      <td>two</td>\n",
       "      <td>sedan</td>\n",
       "      <td>rwd</td>\n",
       "      <td>front</td>\n",
       "      <td>101.2</td>\n",
       "      <td>176.8</td>\n",
       "      <td>64.8</td>\n",
       "      <td>54.3</td>\n",
       "      <td>2395</td>\n",
       "      <td>3.50</td>\n",
       "      <td>2.8</td>\n",
       "      <td>8.8</td>\n",
       "      <td>101</td>\n",
       "      <td>5800</td>\n",
       "      <td>23</td>\n",
       "      <td>29</td>\n",
       "    </tr>\n",
       "  </tbody>\n",
       "</table>\n",
       "</div>"
      ],
      "text/plain": [
       "   risk fuel aspiration doors   body wheels engine_location  wheel_base  \\\n",
       "0     2  gas        std  four  sedan    fwd           front        99.8   \n",
       "1     2  gas        std  four  sedan    4wd           front        99.4   \n",
       "2     1  gas        std  four  sedan    fwd           front       105.8   \n",
       "3     1  gas      turbo  four  sedan    fwd           front       105.8   \n",
       "4     2  gas        std   two  sedan    rwd           front       101.2   \n",
       "\n",
       "   length  width  height  curb_weight  bore  stroke  compression_ratio  \\\n",
       "0   176.6   66.2    54.3         2337  3.19     3.4               10.0   \n",
       "1   176.6   66.4    54.3         2824  3.19     3.4                8.0   \n",
       "2   192.7   71.4    55.7         2844  3.19     3.4                8.5   \n",
       "3   192.7   71.4    55.9         3086  3.13     3.4                8.3   \n",
       "4   176.8   64.8    54.3         2395  3.50     2.8                8.8   \n",
       "\n",
       "   horsepower  peak_rpm  city_mpg  highway_mpg  \n",
       "0         102      5500        24           30  \n",
       "1         115      5500        18           22  \n",
       "2         110      5500        19           25  \n",
       "3         140      5500        17           20  \n",
       "4         101      5800        23           29  "
      ]
     },
     "execution_count": 62,
     "metadata": {},
     "output_type": "execute_result"
    }
   ],
   "source": [
    "sf.head()"
   ]
  },
  {
   "cell_type": "code",
   "execution_count": 67,
   "id": "aac6ce1e",
   "metadata": {},
   "outputs": [
    {
     "data": {
      "text/html": [
       "<div>\n",
       "<style scoped>\n",
       "    .dataframe tbody tr th:only-of-type {\n",
       "        vertical-align: middle;\n",
       "    }\n",
       "\n",
       "    .dataframe tbody tr th {\n",
       "        vertical-align: top;\n",
       "    }\n",
       "\n",
       "    .dataframe thead th {\n",
       "        text-align: right;\n",
       "    }\n",
       "</style>\n",
       "<table border=\"1\" class=\"dataframe\">\n",
       "  <thead>\n",
       "    <tr style=\"text-align: right;\">\n",
       "      <th></th>\n",
       "      <th>Source</th>\n",
       "      <th>ddof1</th>\n",
       "      <th>ddof2</th>\n",
       "      <th>F</th>\n",
       "      <th>p-unc</th>\n",
       "      <th>np2</th>\n",
       "    </tr>\n",
       "  </thead>\n",
       "  <tbody>\n",
       "    <tr>\n",
       "      <th>0</th>\n",
       "      <td>wheels</td>\n",
       "      <td>2</td>\n",
       "      <td>156</td>\n",
       "      <td>2.841743</td>\n",
       "      <td>0.061347</td>\n",
       "      <td>0.035152</td>\n",
       "    </tr>\n",
       "  </tbody>\n",
       "</table>\n",
       "</div>"
      ],
      "text/plain": [
       "   Source  ddof1  ddof2         F     p-unc       np2\n",
       "0  wheels      2    156  2.841743  0.061347  0.035152"
      ]
     },
     "execution_count": 67,
     "metadata": {},
     "output_type": "execute_result"
    }
   ],
   "source": [
    "anova = pg.anova(data=sf, between='wheels', dv='risk')\n",
    "anova"
   ]
  },
  {
   "cell_type": "code",
   "execution_count": 68,
   "id": "866d9362",
   "metadata": {},
   "outputs": [
    {
     "data": {
      "text/plain": [
       "0    False\n",
       "Name: p-unc, dtype: bool"
      ]
     },
     "execution_count": 68,
     "metadata": {},
     "output_type": "execute_result"
    }
   ],
   "source": [
    "anova['p-unc'] < 0.05"
   ]
  },
  {
   "cell_type": "markdown",
   "id": "ae7bd718",
   "metadata": {},
   "source": [
    "휠 종류에 따른 리스크에는 유의미한 차이가 없음"
   ]
  },
  {
   "cell_type": "markdown",
   "id": "2592549f",
   "metadata": {},
   "source": [
    "2. 인종에 따른 교육 수에 차이가 있는지 비교"
   ]
  },
  {
   "cell_type": "code",
   "execution_count": 69,
   "id": "bda4dd26",
   "metadata": {},
   "outputs": [
    {
     "data": {
      "text/html": [
       "<div>\n",
       "<style scoped>\n",
       "    .dataframe tbody tr th:only-of-type {\n",
       "        vertical-align: middle;\n",
       "    }\n",
       "\n",
       "    .dataframe tbody tr th {\n",
       "        vertical-align: top;\n",
       "    }\n",
       "\n",
       "    .dataframe thead th {\n",
       "        text-align: right;\n",
       "    }\n",
       "</style>\n",
       "<table border=\"1\" class=\"dataframe\">\n",
       "  <thead>\n",
       "    <tr style=\"text-align: right;\">\n",
       "      <th></th>\n",
       "      <th>age</th>\n",
       "      <th>workclass</th>\n",
       "      <th>fnlwgt</th>\n",
       "      <th>education</th>\n",
       "      <th>education_num</th>\n",
       "      <th>marital_status</th>\n",
       "      <th>occupation</th>\n",
       "      <th>relationship</th>\n",
       "      <th>race</th>\n",
       "      <th>sex</th>\n",
       "      <th>capital_gain</th>\n",
       "      <th>capital_loss</th>\n",
       "      <th>hours_per_week</th>\n",
       "      <th>native_country</th>\n",
       "      <th>income</th>\n",
       "    </tr>\n",
       "  </thead>\n",
       "  <tbody>\n",
       "    <tr>\n",
       "      <th>0</th>\n",
       "      <td>39</td>\n",
       "      <td>State-gov</td>\n",
       "      <td>77516</td>\n",
       "      <td>Bachelors</td>\n",
       "      <td>13</td>\n",
       "      <td>Never-married</td>\n",
       "      <td>Adm-clerical</td>\n",
       "      <td>Not-in-family</td>\n",
       "      <td>White</td>\n",
       "      <td>Male</td>\n",
       "      <td>2174</td>\n",
       "      <td>0</td>\n",
       "      <td>40</td>\n",
       "      <td>United-States</td>\n",
       "      <td>&lt;=50K</td>\n",
       "    </tr>\n",
       "    <tr>\n",
       "      <th>1</th>\n",
       "      <td>50</td>\n",
       "      <td>Self-emp-not-inc</td>\n",
       "      <td>83311</td>\n",
       "      <td>Bachelors</td>\n",
       "      <td>13</td>\n",
       "      <td>Married-civ-spouse</td>\n",
       "      <td>Exec-managerial</td>\n",
       "      <td>Husband</td>\n",
       "      <td>White</td>\n",
       "      <td>Male</td>\n",
       "      <td>0</td>\n",
       "      <td>0</td>\n",
       "      <td>13</td>\n",
       "      <td>United-States</td>\n",
       "      <td>&lt;=50K</td>\n",
       "    </tr>\n",
       "    <tr>\n",
       "      <th>2</th>\n",
       "      <td>38</td>\n",
       "      <td>Private</td>\n",
       "      <td>215646</td>\n",
       "      <td>HS-grad</td>\n",
       "      <td>9</td>\n",
       "      <td>Divorced</td>\n",
       "      <td>Handlers-cleaners</td>\n",
       "      <td>Not-in-family</td>\n",
       "      <td>White</td>\n",
       "      <td>Male</td>\n",
       "      <td>0</td>\n",
       "      <td>0</td>\n",
       "      <td>40</td>\n",
       "      <td>United-States</td>\n",
       "      <td>&lt;=50K</td>\n",
       "    </tr>\n",
       "    <tr>\n",
       "      <th>3</th>\n",
       "      <td>53</td>\n",
       "      <td>Private</td>\n",
       "      <td>234721</td>\n",
       "      <td>11th</td>\n",
       "      <td>7</td>\n",
       "      <td>Married-civ-spouse</td>\n",
       "      <td>Handlers-cleaners</td>\n",
       "      <td>Husband</td>\n",
       "      <td>Black</td>\n",
       "      <td>Male</td>\n",
       "      <td>0</td>\n",
       "      <td>0</td>\n",
       "      <td>40</td>\n",
       "      <td>United-States</td>\n",
       "      <td>&lt;=50K</td>\n",
       "    </tr>\n",
       "    <tr>\n",
       "      <th>4</th>\n",
       "      <td>28</td>\n",
       "      <td>Private</td>\n",
       "      <td>338409</td>\n",
       "      <td>Bachelors</td>\n",
       "      <td>13</td>\n",
       "      <td>Married-civ-spouse</td>\n",
       "      <td>Prof-specialty</td>\n",
       "      <td>Wife</td>\n",
       "      <td>Black</td>\n",
       "      <td>Female</td>\n",
       "      <td>0</td>\n",
       "      <td>0</td>\n",
       "      <td>40</td>\n",
       "      <td>Cuba</td>\n",
       "      <td>&lt;=50K</td>\n",
       "    </tr>\n",
       "  </tbody>\n",
       "</table>\n",
       "</div>"
      ],
      "text/plain": [
       "   age         workclass  fnlwgt  education  education_num  \\\n",
       "0   39         State-gov   77516  Bachelors             13   \n",
       "1   50  Self-emp-not-inc   83311  Bachelors             13   \n",
       "2   38           Private  215646    HS-grad              9   \n",
       "3   53           Private  234721       11th              7   \n",
       "4   28           Private  338409  Bachelors             13   \n",
       "\n",
       "       marital_status         occupation   relationship   race     sex  \\\n",
       "0       Never-married       Adm-clerical  Not-in-family  White    Male   \n",
       "1  Married-civ-spouse    Exec-managerial        Husband  White    Male   \n",
       "2            Divorced  Handlers-cleaners  Not-in-family  White    Male   \n",
       "3  Married-civ-spouse  Handlers-cleaners        Husband  Black    Male   \n",
       "4  Married-civ-spouse     Prof-specialty           Wife  Black  Female   \n",
       "\n",
       "   capital_gain  capital_loss  hours_per_week native_country income  \n",
       "0          2174             0              40  United-States  <=50K  \n",
       "1             0             0              13  United-States  <=50K  \n",
       "2             0             0              40  United-States  <=50K  \n",
       "3             0             0              40  United-States  <=50K  \n",
       "4             0             0              40           Cuba  <=50K  "
      ]
     },
     "execution_count": 69,
     "metadata": {},
     "output_type": "execute_result"
    }
   ],
   "source": [
    "census = pd.read_excel('data/census.xlsx')\n",
    "census.head()"
   ]
  },
  {
   "cell_type": "code",
   "execution_count": 74,
   "id": "48e59851",
   "metadata": {},
   "outputs": [
    {
     "data": {
      "text/plain": [
       "0    True\n",
       "Name: p-unc, dtype: bool"
      ]
     },
     "execution_count": 74,
     "metadata": {},
     "output_type": "execute_result"
    }
   ],
   "source": [
    "anova = pg.anova(data=census, between='race', dv='education_num')\n",
    "anova['p-unc'] < 0.05"
   ]
  },
  {
   "cell_type": "code",
   "execution_count": null,
   "id": "734b7e74",
   "metadata": {},
   "outputs": [],
   "source": [
    "인종에 따른 교육 수에는 유의미한 차이가 있음. 사후 검정 진행"
   ]
  },
  {
   "cell_type": "markdown",
   "id": "e823e7b2",
   "metadata": {},
   "source": [
    "### 사후 검정(Tukey HSD)\n",
    "ANOVA 분석에서 통계적 유의성이 확인되면 사후 검정을 통해 집단 간 차이 비교"
   ]
  },
  {
   "cell_type": "code",
   "execution_count": 76,
   "id": "ebfcfbe8",
   "metadata": {},
   "outputs": [
    {
     "data": {
      "text/html": [
       "<div>\n",
       "<style scoped>\n",
       "    .dataframe tbody tr th:only-of-type {\n",
       "        vertical-align: middle;\n",
       "    }\n",
       "\n",
       "    .dataframe tbody tr th {\n",
       "        vertical-align: top;\n",
       "    }\n",
       "\n",
       "    .dataframe thead th {\n",
       "        text-align: right;\n",
       "    }\n",
       "</style>\n",
       "<table border=\"1\" class=\"dataframe\">\n",
       "  <thead>\n",
       "    <tr style=\"text-align: right;\">\n",
       "      <th></th>\n",
       "      <th>A</th>\n",
       "      <th>B</th>\n",
       "      <th>mean(A)</th>\n",
       "      <th>mean(B)</th>\n",
       "      <th>diff</th>\n",
       "      <th>se</th>\n",
       "      <th>T</th>\n",
       "      <th>p-tukey</th>\n",
       "      <th>hedges</th>\n",
       "    </tr>\n",
       "  </thead>\n",
       "  <tbody>\n",
       "    <tr>\n",
       "      <th>0</th>\n",
       "      <td>Amer-Indian-Eskimo</td>\n",
       "      <td>Asian-Pac-Islander</td>\n",
       "      <td>9.311897</td>\n",
       "      <td>10.960539</td>\n",
       "      <td>-1.648642</td>\n",
       "      <td>0.165300</td>\n",
       "      <td>-9.973665</td>\n",
       "      <td>0.001</td>\n",
       "      <td>-0.644306</td>\n",
       "    </tr>\n",
       "    <tr>\n",
       "      <th>3</th>\n",
       "      <td>Amer-Indian-Eskimo</td>\n",
       "      <td>White</td>\n",
       "      <td>9.311897</td>\n",
       "      <td>10.135246</td>\n",
       "      <td>-0.823349</td>\n",
       "      <td>0.145823</td>\n",
       "      <td>-5.646210</td>\n",
       "      <td>0.001</td>\n",
       "      <td>-0.321943</td>\n",
       "    </tr>\n",
       "    <tr>\n",
       "      <th>4</th>\n",
       "      <td>Asian-Pac-Islander</td>\n",
       "      <td>Black</td>\n",
       "      <td>10.960539</td>\n",
       "      <td>9.486236</td>\n",
       "      <td>1.474303</td>\n",
       "      <td>0.091587</td>\n",
       "      <td>16.097347</td>\n",
       "      <td>0.001</td>\n",
       "      <td>0.576389</td>\n",
       "    </tr>\n",
       "    <tr>\n",
       "      <th>5</th>\n",
       "      <td>Asian-Pac-Islander</td>\n",
       "      <td>Other</td>\n",
       "      <td>10.960539</td>\n",
       "      <td>8.841328</td>\n",
       "      <td>2.119211</td>\n",
       "      <td>0.174436</td>\n",
       "      <td>12.148936</td>\n",
       "      <td>0.001</td>\n",
       "      <td>0.828195</td>\n",
       "    </tr>\n",
       "    <tr>\n",
       "      <th>6</th>\n",
       "      <td>Asian-Pac-Islander</td>\n",
       "      <td>White</td>\n",
       "      <td>10.960539</td>\n",
       "      <td>10.135246</td>\n",
       "      <td>0.825293</td>\n",
       "      <td>0.080807</td>\n",
       "      <td>10.213160</td>\n",
       "      <td>0.001</td>\n",
       "      <td>0.322704</td>\n",
       "    </tr>\n",
       "    <tr>\n",
       "      <th>7</th>\n",
       "      <td>Black</td>\n",
       "      <td>Other</td>\n",
       "      <td>9.486236</td>\n",
       "      <td>8.841328</td>\n",
       "      <td>0.644907</td>\n",
       "      <td>0.161947</td>\n",
       "      <td>3.982216</td>\n",
       "      <td>0.001</td>\n",
       "      <td>0.252121</td>\n",
       "    </tr>\n",
       "    <tr>\n",
       "      <th>8</th>\n",
       "      <td>Black</td>\n",
       "      <td>White</td>\n",
       "      <td>9.486236</td>\n",
       "      <td>10.135246</td>\n",
       "      <td>-0.649010</td>\n",
       "      <td>0.048256</td>\n",
       "      <td>-13.449361</td>\n",
       "      <td>0.001</td>\n",
       "      <td>-0.253775</td>\n",
       "    </tr>\n",
       "    <tr>\n",
       "      <th>9</th>\n",
       "      <td>Other</td>\n",
       "      <td>White</td>\n",
       "      <td>8.841328</td>\n",
       "      <td>10.135246</td>\n",
       "      <td>-1.293917</td>\n",
       "      <td>0.156104</td>\n",
       "      <td>-8.288831</td>\n",
       "      <td>0.001</td>\n",
       "      <td>-0.505944</td>\n",
       "    </tr>\n",
       "  </tbody>\n",
       "</table>\n",
       "</div>"
      ],
      "text/plain": [
       "                    A                   B    mean(A)    mean(B)      diff  \\\n",
       "0  Amer-Indian-Eskimo  Asian-Pac-Islander   9.311897  10.960539 -1.648642   \n",
       "3  Amer-Indian-Eskimo               White   9.311897  10.135246 -0.823349   \n",
       "4  Asian-Pac-Islander               Black  10.960539   9.486236  1.474303   \n",
       "5  Asian-Pac-Islander               Other  10.960539   8.841328  2.119211   \n",
       "6  Asian-Pac-Islander               White  10.960539  10.135246  0.825293   \n",
       "7               Black               Other   9.486236   8.841328  0.644907   \n",
       "8               Black               White   9.486236  10.135246 -0.649010   \n",
       "9               Other               White   8.841328  10.135246 -1.293917   \n",
       "\n",
       "         se          T  p-tukey    hedges  \n",
       "0  0.165300  -9.973665    0.001 -0.644306  \n",
       "3  0.145823  -5.646210    0.001 -0.321943  \n",
       "4  0.091587  16.097347    0.001  0.576389  \n",
       "5  0.174436  12.148936    0.001  0.828195  \n",
       "6  0.080807  10.213160    0.001  0.322704  \n",
       "7  0.161947   3.982216    0.001  0.252121  \n",
       "8  0.048256 -13.449361    0.001 -0.253775  \n",
       "9  0.156104  -8.288831    0.001 -0.505944  "
      ]
     },
     "execution_count": 76,
     "metadata": {},
     "output_type": "execute_result"
    }
   ],
   "source": [
    "tukey = pg.pairwise_tukey(data=census, between='race', dv='education_num')\n",
    "tukey[tukey['p-tukey'] < 0.05]"
   ]
  },
  {
   "cell_type": "markdown",
   "id": "bb95c222",
   "metadata": {},
   "source": [
    "p-tukey 값이 0.05 이하인 경우 hedges 값으로 영향력 확인"
   ]
  },
  {
   "cell_type": "markdown",
   "id": "bd70b6b8",
   "metadata": {},
   "source": [
    "### 등분산성 검정\n",
    "\n",
    "- 통상적으로 분산이 같다는 가정 하에 anova 분석과 tukey 검정을 진행\n",
    "- 정석대로라면 분산 분석 이전에 분산이 같은지 확인하고 그 결과에 따라 분석을 달리해야함\n",
    "- 만약 분산이 같지 않다면 welch anova 분석 후에 games howell 검정\n",
    "- `pg.homoscedasticity(data=DataFrame, group='col', dv='col')`"
   ]
  },
  {
   "cell_type": "code",
   "execution_count": 77,
   "id": "54c8d812",
   "metadata": {},
   "outputs": [
    {
     "data": {
      "text/html": [
       "<div>\n",
       "<style scoped>\n",
       "    .dataframe tbody tr th:only-of-type {\n",
       "        vertical-align: middle;\n",
       "    }\n",
       "\n",
       "    .dataframe tbody tr th {\n",
       "        vertical-align: top;\n",
       "    }\n",
       "\n",
       "    .dataframe thead th {\n",
       "        text-align: right;\n",
       "    }\n",
       "</style>\n",
       "<table border=\"1\" class=\"dataframe\">\n",
       "  <thead>\n",
       "    <tr style=\"text-align: right;\">\n",
       "      <th></th>\n",
       "      <th>W</th>\n",
       "      <th>pval</th>\n",
       "      <th>equal_var</th>\n",
       "    </tr>\n",
       "  </thead>\n",
       "  <tbody>\n",
       "    <tr>\n",
       "      <th>levene</th>\n",
       "      <td>45.022712</td>\n",
       "      <td>9.087050e-38</td>\n",
       "      <td>False</td>\n",
       "    </tr>\n",
       "  </tbody>\n",
       "</table>\n",
       "</div>"
      ],
      "text/plain": [
       "                W          pval  equal_var\n",
       "levene  45.022712  9.087050e-38      False"
      ]
     },
     "execution_count": 77,
     "metadata": {},
     "output_type": "execute_result"
    }
   ],
   "source": [
    "pg.homoscedasticity(data=census, group='race', dv='education_num')"
   ]
  },
  {
   "cell_type": "markdown",
   "id": "f4ff5ed6",
   "metadata": {},
   "source": [
    "## 카이제곱 검정"
   ]
  },
  {
   "cell_type": "markdown",
   "id": "52c0a141",
   "metadata": {},
   "source": [
    "### 피봇 테이블"
   ]
  },
  {
   "cell_type": "code",
   "execution_count": 82,
   "id": "a3bc1f5c",
   "metadata": {},
   "outputs": [
    {
     "data": {
      "text/html": [
       "<div>\n",
       "<style scoped>\n",
       "    .dataframe tbody tr th:only-of-type {\n",
       "        vertical-align: middle;\n",
       "    }\n",
       "\n",
       "    .dataframe tbody tr th {\n",
       "        vertical-align: top;\n",
       "    }\n",
       "\n",
       "    .dataframe thead th {\n",
       "        text-align: right;\n",
       "    }\n",
       "</style>\n",
       "<table border=\"1\" class=\"dataframe\">\n",
       "  <thead>\n",
       "    <tr style=\"text-align: right;\">\n",
       "      <th>aspiration</th>\n",
       "      <th>std</th>\n",
       "      <th>turbo</th>\n",
       "    </tr>\n",
       "    <tr>\n",
       "      <th>doors</th>\n",
       "      <th></th>\n",
       "      <th></th>\n",
       "    </tr>\n",
       "  </thead>\n",
       "  <tbody>\n",
       "    <tr>\n",
       "      <th>four</th>\n",
       "      <td>76</td>\n",
       "      <td>19</td>\n",
       "    </tr>\n",
       "    <tr>\n",
       "      <th>two</th>\n",
       "      <td>56</td>\n",
       "      <td>8</td>\n",
       "    </tr>\n",
       "  </tbody>\n",
       "</table>\n",
       "</div>"
      ],
      "text/plain": [
       "aspiration  std  turbo\n",
       "doors                 \n",
       "four         76     19\n",
       "two          56      8"
      ]
     },
     "execution_count": 82,
     "metadata": {},
     "output_type": "execute_result"
    }
   ],
   "source": [
    "sf.pivot_table(index='doors', columns='aspiration', aggfunc='size')"
   ]
  },
  {
   "cell_type": "markdown",
   "id": "2ec1dba5",
   "metadata": {},
   "source": [
    "### 카이제곱 검정"
   ]
  },
  {
   "cell_type": "code",
   "execution_count": null,
   "id": "cf60f217",
   "metadata": {},
   "outputs": [],
   "source": []
  }
 ],
 "metadata": {
  "kernelspec": {
   "display_name": "Python 3",
   "language": "python",
   "name": "python3"
  },
  "language_info": {
   "codemirror_mode": {
    "name": "ipython",
    "version": 3
   },
   "file_extension": ".py",
   "mimetype": "text/x-python",
   "name": "python",
   "nbconvert_exporter": "python",
   "pygments_lexer": "ipython3",
   "version": "3.8.8"
  },
  "toc": {
   "base_numbering": 1,
   "nav_menu": {},
   "number_sections": true,
   "sideBar": true,
   "skip_h1_title": false,
   "title_cell": "Table of Contents",
   "title_sidebar": "Contents",
   "toc_cell": false,
   "toc_position": {
    "height": "calc(100% - 180px)",
    "left": "10px",
    "top": "150px",
    "width": "279px"
   },
   "toc_section_display": true,
   "toc_window_display": true
  }
 },
 "nbformat": 4,
 "nbformat_minor": 5
}
