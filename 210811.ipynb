{
 "cells": [
  {
   "cell_type": "markdown",
   "id": "1c1d9289",
   "metadata": {},
   "source": [
    "# 기술 통계"
   ]
  },
  {
   "cell_type": "code",
   "execution_count": 2,
   "id": "0a920fde",
   "metadata": {},
   "outputs": [],
   "source": [
    "import pandas as pd"
   ]
  },
  {
   "cell_type": "code",
   "execution_count": 3,
   "id": "899ae7c8",
   "metadata": {},
   "outputs": [
    {
     "data": {
      "text/html": [
       "<div>\n",
       "<style scoped>\n",
       "    .dataframe tbody tr th:only-of-type {\n",
       "        vertical-align: middle;\n",
       "    }\n",
       "\n",
       "    .dataframe tbody tr th {\n",
       "        vertical-align: top;\n",
       "    }\n",
       "\n",
       "    .dataframe thead th {\n",
       "        text-align: right;\n",
       "    }\n",
       "</style>\n",
       "<table border=\"1\" class=\"dataframe\">\n",
       "  <thead>\n",
       "    <tr style=\"text-align: right;\">\n",
       "      <th></th>\n",
       "      <th>mileage</th>\n",
       "      <th>model</th>\n",
       "      <th>price</th>\n",
       "      <th>year</th>\n",
       "      <th>my_car_damage</th>\n",
       "      <th>other_car_damage</th>\n",
       "    </tr>\n",
       "  </thead>\n",
       "  <tbody>\n",
       "    <tr>\n",
       "      <th>0</th>\n",
       "      <td>63608</td>\n",
       "      <td>K3</td>\n",
       "      <td>970</td>\n",
       "      <td>2017</td>\n",
       "      <td>0</td>\n",
       "      <td>564596</td>\n",
       "    </tr>\n",
       "    <tr>\n",
       "      <th>1</th>\n",
       "      <td>69336</td>\n",
       "      <td>K3</td>\n",
       "      <td>1130</td>\n",
       "      <td>2015</td>\n",
       "      <td>1839700</td>\n",
       "      <td>1140150</td>\n",
       "    </tr>\n",
       "    <tr>\n",
       "      <th>2</th>\n",
       "      <td>36000</td>\n",
       "      <td>K3</td>\n",
       "      <td>1380</td>\n",
       "      <td>2016</td>\n",
       "      <td>446520</td>\n",
       "      <td>2244910</td>\n",
       "    </tr>\n",
       "    <tr>\n",
       "      <th>3</th>\n",
       "      <td>19029</td>\n",
       "      <td>K3</td>\n",
       "      <td>1390</td>\n",
       "      <td>2017</td>\n",
       "      <td>889000</td>\n",
       "      <td>4196110</td>\n",
       "    </tr>\n",
       "    <tr>\n",
       "      <th>4</th>\n",
       "      <td>97090</td>\n",
       "      <td>K3</td>\n",
       "      <td>760</td>\n",
       "      <td>2015</td>\n",
       "      <td>2339137</td>\n",
       "      <td>2029570</td>\n",
       "    </tr>\n",
       "  </tbody>\n",
       "</table>\n",
       "</div>"
      ],
      "text/plain": [
       "   mileage model  price  year  my_car_damage  other_car_damage\n",
       "0    63608    K3    970  2017              0            564596\n",
       "1    69336    K3   1130  2015        1839700           1140150\n",
       "2    36000    K3   1380  2016         446520           2244910\n",
       "3    19029    K3   1390  2017         889000           4196110\n",
       "4    97090    K3    760  2015        2339137           2029570"
      ]
     },
     "execution_count": 3,
     "metadata": {},
     "output_type": "execute_result"
    }
   ],
   "source": [
    "car = pd.read_excel('data/car.xlsx')\n",
    "car.head()"
   ]
  },
  {
   "cell_type": "markdown",
   "id": "d72ec327",
   "metadata": {},
   "source": [
    "## 중심 경향치: 평균, 중앙값, 최빈값"
   ]
  },
  {
   "cell_type": "code",
   "execution_count": 16,
   "id": "1a26b1ce",
   "metadata": {},
   "outputs": [
    {
     "data": {
      "text/plain": [
       "77483.22262773722"
      ]
     },
     "execution_count": 16,
     "metadata": {},
     "output_type": "execute_result"
    }
   ],
   "source": [
    "# 평균 .mean()\n",
    "car.mileage.mean()"
   ]
  },
  {
   "cell_type": "code",
   "execution_count": 17,
   "id": "7847b75e",
   "metadata": {},
   "outputs": [
    {
     "data": {
      "text/plain": [
       "71649.0"
      ]
     },
     "execution_count": 17,
     "metadata": {},
     "output_type": "execute_result"
    }
   ],
   "source": [
    "# 중앙값 .median()\n",
    "car.mileage.median()"
   ]
  },
  {
   "cell_type": "code",
   "execution_count": 18,
   "id": "5d8309b3",
   "metadata": {},
   "outputs": [
    {
     "data": {
      "text/plain": [
       "0    Avante\n",
       "dtype: object"
      ]
     },
     "execution_count": 18,
     "metadata": {},
     "output_type": "execute_result"
    }
   ],
   "source": [
    "# 최빈값 .mode()\n",
    "car.model.mode()"
   ]
  },
  {
   "cell_type": "code",
   "execution_count": 15,
   "id": "8ab00ccf",
   "metadata": {},
   "outputs": [
    {
     "data": {
      "text/plain": [
       "(0    Avante\n",
       " dtype: object,\n",
       " Avante    205\n",
       " K3         69\n",
       " Name: model, dtype: int64)"
      ]
     },
     "execution_count": 15,
     "metadata": {},
     "output_type": "execute_result"
    }
   ],
   "source": [
    "# 그룹별 최빈값 .value_counts()\n",
    "car.model.value_counts()"
   ]
  },
  {
   "cell_type": "markdown",
   "id": "d4238cf1",
   "metadata": {},
   "source": [
    "## 분위수: 사분위, 백분위, 최대값, 최소값"
   ]
  },
  {
   "cell_type": "code",
   "execution_count": 34,
   "id": "b0d3ee40",
   "metadata": {},
   "outputs": [
    {
     "data": {
      "text/plain": [
       "310000"
      ]
     },
     "execution_count": 34,
     "metadata": {},
     "output_type": "execute_result"
    }
   ],
   "source": [
    "# 최대값 .max()\n",
    "car.mileage.max()"
   ]
  },
  {
   "cell_type": "code",
   "execution_count": 36,
   "id": "950d623e",
   "metadata": {},
   "outputs": [
    {
     "data": {
      "text/plain": [
       "2287"
      ]
     },
     "execution_count": 36,
     "metadata": {},
     "output_type": "execute_result"
    }
   ],
   "source": [
    "# 최소값 .min()\n",
    "car.mileage.min()"
   ]
  },
  {
   "cell_type": "code",
   "execution_count": 37,
   "id": "97e9422e",
   "metadata": {},
   "outputs": [
    {
     "data": {
      "text/plain": [
       "(47597.5, 103193.75)"
      ]
     },
     "execution_count": 37,
     "metadata": {},
     "output_type": "execute_result"
    }
   ],
   "source": [
    "# 분위수 .quantile()\n",
    "# 1사분위수, 3사분위수\n",
    "car.mileage.quantile(.25), car.mileage.quantile(.75)"
   ]
  },
  {
   "cell_type": "markdown",
   "id": "d2938caa",
   "metadata": {},
   "source": [
    "## 변산성 측정치: 범위(+사분위간 범위)"
   ]
  },
  {
   "cell_type": "code",
   "execution_count": 41,
   "id": "1202cbc6",
   "metadata": {},
   "outputs": [
    {
     "data": {
      "text/plain": [
       "307713"
      ]
     },
     "execution_count": 41,
     "metadata": {},
     "output_type": "execute_result"
    }
   ],
   "source": [
    "# 범위\n",
    "mil_range = car.mileage.max() - car.mileage.min()\n",
    "mil_range"
   ]
  },
  {
   "cell_type": "code",
   "execution_count": 43,
   "id": "44a7b3f8",
   "metadata": {},
   "outputs": [
    {
     "data": {
      "text/plain": [
       "55596.25"
      ]
     },
     "execution_count": 43,
     "metadata": {},
     "output_type": "execute_result"
    }
   ],
   "source": [
    "# 사분위간 범위 IQR\n",
    "mil_iqr = car.mileage.quantile(.75) - car.mileage.quantile(.25)\n",
    "mil_iqr"
   ]
  },
  {
   "cell_type": "markdown",
   "id": "059e53a3",
   "metadata": {},
   "source": [
    "# 표집 분포"
   ]
  },
  {
   "cell_type": "code",
   "execution_count": 82,
   "id": "fde9280a",
   "metadata": {},
   "outputs": [],
   "source": [
    "import numpy as np\n",
    "import matplotlib.pyplot as plt"
   ]
  },
  {
   "cell_type": "code",
   "execution_count": 83,
   "id": "443224f1",
   "metadata": {},
   "outputs": [
    {
     "data": {
      "text/plain": [
       "(array([3, 6, 3, 5, 6, 5, 5, 6, 1, 3]), 4.3)"
      ]
     },
     "execution_count": 83,
     "metadata": {},
     "output_type": "execute_result"
    }
   ],
   "source": [
    "# np.random.randint(min, max, size=개수)\n",
    "n = np.random.randint(1, 7, size=10)\n",
    "n, n.mean()"
   ]
  },
  {
   "cell_type": "code",
   "execution_count": 84,
   "id": "cc301ecc",
   "metadata": {},
   "outputs": [
    {
     "data": {
      "text/plain": [
       "(array([1., 0., 0., 0., 3., 0., 0., 0., 3., 3.]),\n",
       " array([1. , 1.5, 2. , 2.5, 3. , 3.5, 4. , 4.5, 5. , 5.5, 6. ]),\n",
       " <BarContainer object of 10 artists>)"
      ]
     },
     "execution_count": 84,
     "metadata": {},
     "output_type": "execute_result"
    },
    {
     "data": {
      "image/png": "[encoded data removed]",
      "text/plain": [
       "<Figure size 432x288 with 1 Axes>"
      ]
     },
     "metadata": {
      "needs_background": "light"
     },
     "output_type": "display_data"
    }
   ],
   "source": [
    "# 히스토그램: 데이터를 일정 구간마다 잘라서 빈도를 그림\n",
    "# plt.hist() = (y축 array, x축 array)\n",
    "# y축 = 빈도(개수)\n",
    "# x축 = 데이터의 범위\n",
    "plt.hist(n)  \n",
    "\n",
    "# plt.xlim(a, b) x 축 범위 a~b 지정"
   ]
  },
  {
   "cell_type": "code",
   "execution_count": 92,
   "id": "6733338f",
   "metadata": {
    "scrolled": true
   },
   "outputs": [
    {
     "data": {
      "text/plain": [
       "(array([ 1.,  2.,  7., 12., 18., 21., 14., 17.,  5.,  3.]),\n",
       " array([1.9 , 2.19, 2.48, 2.77, 3.06, 3.35, 3.64, 3.93, 4.22, 4.51, 4.8 ]),\n",
       " <BarContainer object of 10 artists>)"
      ]
     },
     "execution_count": 92,
     "metadata": {},
     "output_type": "execute_result"
    },
    {
     "data": {
      "image/png": "[encoded data removed]",
      "text/plain": [
       "<Figure size 432x288 with 1 Axes>"
      ]
     },
     "metadata": {
      "needs_background": "light"
     },
     "output_type": "display_data"
    }
   ],
   "source": [
    "# 주사위를 10번 던졌을 때의 평균을 구하고\n",
    "# 그 평균을 100번 냈을 때의 분포도\n",
    "ms = []\n",
    "for _ in range(100):\n",
    "    n = np.random.randint(1, 7, size=10) # size가 표본의 크기\n",
    "    m = n.mean() # 표본 평균\n",
    "    ms.append(m)\n",
    "\n",
    "plt.hist(ms) # 표집 분포"
   ]
  },
  {
   "cell_type": "markdown",
   "id": "b79b2d8f",
   "metadata": {},
   "source": [
    "# t분포를 이용한 평균의 신뢰구간"
   ]
  },
  {
   "cell_type": "code",
   "execution_count": 95,
   "id": "2bda6250",
   "metadata": {
    "scrolled": true
   },
   "outputs": [
    {
     "name": "stdout",
     "output_type": "stream",
     "text": [
      "Collecting pingouin\n",
      "  Downloading pingouin-0.3.12.tar.gz (205 kB)\n",
      "\u001b[K     |████████████████████████████████| 205 kB 1.8 MB/s eta 0:00:01\n",
      "\u001b[?25hRequirement already satisfied: numpy>=1.15 in /opt/anaconda3/lib/python3.8/site-packages (from pingouin) (1.20.1)\n",
      "Requirement already satisfied: scipy>=1.3 in /opt/anaconda3/lib/python3.8/site-packages (from pingouin) (1.6.2)\n",
      "Requirement already satisfied: pandas>=0.24 in /opt/anaconda3/lib/python3.8/site-packages (from pingouin) (1.2.4)\n",
      "Requirement already satisfied: matplotlib>=3.0.2 in /opt/anaconda3/lib/python3.8/site-packages (from pingouin) (3.3.4)\n",
      "Requirement already satisfied: seaborn>=0.9.0 in /opt/anaconda3/lib/python3.8/site-packages (from pingouin) (0.11.1)\n",
      "Requirement already satisfied: statsmodels>=0.10.0 in /opt/anaconda3/lib/python3.8/site-packages (from pingouin) (0.12.2)\n",
      "Requirement already satisfied: scikit-learn in /opt/anaconda3/lib/python3.8/site-packages (from pingouin) (0.24.1)\n",
      "Collecting pandas_flavor>=0.1.2\n",
      "  Downloading pandas_flavor-0.2.0-py2.py3-none-any.whl (6.6 kB)\n",
      "Collecting outdated\n",
      "  Downloading outdated-0.2.1-py3-none-any.whl (7.5 kB)\n",
      "Collecting tabulate\n",
      "  Downloading tabulate-0.8.9-py3-none-any.whl (25 kB)\n",
      "Requirement already satisfied: python-dateutil>=2.1 in /opt/anaconda3/lib/python3.8/site-packages (from matplotlib>=3.0.2->pingouin) (2.8.1)\n",
      "Requirement already satisfied: kiwisolver>=1.0.1 in /opt/anaconda3/lib/python3.8/site-packages (from matplotlib>=3.0.2->pingouin) (1.3.1)\n",
      "Requirement already satisfied: cycler>=0.10 in /opt/anaconda3/lib/python3.8/site-packages (from matplotlib>=3.0.2->pingouin) (0.10.0)\n",
      "Requirement already satisfied: pillow>=6.2.0 in /opt/anaconda3/lib/python3.8/site-packages (from matplotlib>=3.0.2->pingouin) (8.2.0)\n",
      "Requirement already satisfied: pyparsing!=2.0.4,!=2.1.2,!=2.1.6,>=2.0.3 in /opt/anaconda3/lib/python3.8/site-packages (from matplotlib>=3.0.2->pingouin) (2.4.7)\n",
      "Requirement already satisfied: six in /opt/anaconda3/lib/python3.8/site-packages (from cycler>=0.10->matplotlib>=3.0.2->pingouin) (1.15.0)\n",
      "Requirement already satisfied: pytz>=2017.3 in /opt/anaconda3/lib/python3.8/site-packages (from pandas>=0.24->pingouin) (2021.1)\n",
      "Collecting xarray\n",
      "  Downloading xarray-0.19.0-py3-none-any.whl (827 kB)\n",
      "\u001b[K     |████████████████████████████████| 827 kB 16.3 MB/s eta 0:00:01\n",
      "\u001b[?25hRequirement already satisfied: patsy>=0.5 in /opt/anaconda3/lib/python3.8/site-packages (from statsmodels>=0.10.0->pingouin) (0.5.1)\n",
      "Requirement already satisfied: requests in /opt/anaconda3/lib/python3.8/site-packages (from outdated->pingouin) (2.25.1)\n",
      "Collecting littleutils\n",
      "  Downloading littleutils-0.2.2.tar.gz (6.6 kB)\n",
      "Requirement already satisfied: certifi>=2017.4.17 in /opt/anaconda3/lib/python3.8/site-packages (from requests->outdated->pingouin) (2020.12.5)\n",
      "Requirement already satisfied: idna<3,>=2.5 in /opt/anaconda3/lib/python3.8/site-packages (from requests->outdated->pingouin) (2.10)\n",
      "Requirement already satisfied: chardet<5,>=3.0.2 in /opt/anaconda3/lib/python3.8/site-packages (from requests->outdated->pingouin) (4.0.0)\n",
      "Requirement already satisfied: urllib3<1.27,>=1.21.1 in /opt/anaconda3/lib/python3.8/site-packages (from requests->outdated->pingouin) (1.26.4)\n",
      "Requirement already satisfied: threadpoolctl>=2.0.0 in /opt/anaconda3/lib/python3.8/site-packages (from scikit-learn->pingouin) (2.1.0)\n",
      "Requirement already satisfied: joblib>=0.11 in /opt/anaconda3/lib/python3.8/site-packages (from scikit-learn->pingouin) (1.0.1)\n",
      "Requirement already satisfied: setuptools>=40.4 in /opt/anaconda3/lib/python3.8/site-packages (from xarray->pandas_flavor>=0.1.2->pingouin) (52.0.0.post20210125)\n",
      "Building wheels for collected packages: pingouin, littleutils\n",
      "  Building wheel for pingouin (setup.py) ... \u001b[?25ldone\n",
      "\u001b[?25h  Created wheel for pingouin: filename=pingouin-0.3.12-py3-none-any.whl size=204286 sha256=7edb99ec8d0c3351124388e67e59af2a3bd51de3b0fb2f187fcb1d67b9c4b5f4\n",
      "  Stored in directory: /Users/goyo/Library/Caches/pip/wheels/56/74/f2/a766175283c1c2479db49da5e259a7ffa418ed584d43f5c058\n",
      "  Building wheel for littleutils (setup.py) ... \u001b[?25ldone\n",
      "\u001b[?25h  Created wheel for littleutils: filename=littleutils-0.2.2-py3-none-any.whl size=7048 sha256=b72902103fcfb753c1415dd9139daa7bcd4f8c577a21466ea3088945d16dae67\n",
      "  Stored in directory: /Users/goyo/Library/Caches/pip/wheels/6a/33/c4/0ef84d7f5568c2823e3d63a6e08988852fb9e4bc822034870a\n",
      "Successfully built pingouin littleutils\n",
      "Installing collected packages: xarray, littleutils, tabulate, pandas-flavor, outdated, pingouin\n",
      "Successfully installed littleutils-0.2.2 outdated-0.2.1 pandas-flavor-0.2.0 pingouin-0.3.12 tabulate-0.8.9 xarray-0.19.0\n",
      "Note: you may need to restart the kernel to use updated packages.\n"
     ]
    }
   ],
   "source": [
    "pip install pingouin"
   ]
  },
  {
   "cell_type": "code",
   "execution_count": 1,
   "id": "675e3998",
   "metadata": {},
   "outputs": [],
   "source": [
    "import pingouin as pg"
   ]
  },
  {
   "cell_type": "code",
   "execution_count": 6,
   "id": "50a22fa5",
   "metadata": {},
   "outputs": [
    {
     "data": {
      "text/plain": [
       "77483.22262773722"
      ]
     },
     "execution_count": 6,
     "metadata": {},
     "output_type": "execute_result"
    }
   ],
   "source": [
    "car.mileage.mean()"
   ]
  },
  {
   "cell_type": "code",
   "execution_count": 5,
   "id": "ec0b47e4",
   "metadata": {},
   "outputs": [
    {
     "data": {
      "text/html": [
       "<div>\n",
       "<style scoped>\n",
       "    .dataframe tbody tr th:only-of-type {\n",
       "        vertical-align: middle;\n",
       "    }\n",
       "\n",
       "    .dataframe tbody tr th {\n",
       "        vertical-align: top;\n",
       "    }\n",
       "\n",
       "    .dataframe thead th {\n",
       "        text-align: right;\n",
       "    }\n",
       "</style>\n",
       "<table border=\"1\" class=\"dataframe\">\n",
       "  <thead>\n",
       "    <tr style=\"text-align: right;\">\n",
       "      <th></th>\n",
       "      <th>T</th>\n",
       "      <th>dof</th>\n",
       "      <th>tail</th>\n",
       "      <th>p-val</th>\n",
       "      <th>CI95%</th>\n",
       "      <th>cohen-d</th>\n",
       "      <th>BF10</th>\n",
       "      <th>power</th>\n",
       "    </tr>\n",
       "  </thead>\n",
       "  <tbody>\n",
       "    <tr>\n",
       "      <th>T-test</th>\n",
       "      <td>29.816386</td>\n",
       "      <td>273</td>\n",
       "      <td>two-sided</td>\n",
       "      <td>7.513310e-88</td>\n",
       "      <td>[72367.22, 82599.22]</td>\n",
       "      <td>1.801274</td>\n",
       "      <td>1.384e+84</td>\n",
       "      <td>1.0</td>\n",
       "    </tr>\n",
       "  </tbody>\n",
       "</table>\n",
       "</div>"
      ],
      "text/plain": [
       "                T  dof       tail         p-val                 CI95%  \\\n",
       "T-test  29.816386  273  two-sided  7.513310e-88  [72367.22, 82599.22]   \n",
       "\n",
       "         cohen-d       BF10  power  \n",
       "T-test  1.801274  1.384e+84    1.0  "
      ]
     },
     "execution_count": 5,
     "metadata": {},
     "output_type": "execute_result"
    }
   ],
   "source": [
    "pg.ttest(car.mileage, 0, confidence=0.95)"
   ]
  },
  {
   "cell_type": "code",
   "execution_count": 8,
   "id": "61d75a80",
   "metadata": {},
   "outputs": [
    {
     "data": {
      "text/plain": [
       "853.6605839416059"
      ]
     },
     "execution_count": 8,
     "metadata": {},
     "output_type": "execute_result"
    }
   ],
   "source": [
    "car.price.mean()"
   ]
  },
  {
   "cell_type": "code",
   "execution_count": 9,
   "id": "677a9c82",
   "metadata": {},
   "outputs": [
    {
     "data": {
      "text/html": [
       "<div>\n",
       "<style scoped>\n",
       "    .dataframe tbody tr th:only-of-type {\n",
       "        vertical-align: middle;\n",
       "    }\n",
       "\n",
       "    .dataframe tbody tr th {\n",
       "        vertical-align: top;\n",
       "    }\n",
       "\n",
       "    .dataframe thead th {\n",
       "        text-align: right;\n",
       "    }\n",
       "</style>\n",
       "<table border=\"1\" class=\"dataframe\">\n",
       "  <thead>\n",
       "    <tr style=\"text-align: right;\">\n",
       "      <th></th>\n",
       "      <th>T</th>\n",
       "      <th>dof</th>\n",
       "      <th>tail</th>\n",
       "      <th>p-val</th>\n",
       "      <th>CI95%</th>\n",
       "      <th>cohen-d</th>\n",
       "      <th>BF10</th>\n",
       "      <th>power</th>\n",
       "    </tr>\n",
       "  </thead>\n",
       "  <tbody>\n",
       "    <tr>\n",
       "      <th>T-test</th>\n",
       "      <td>42.483582</td>\n",
       "      <td>273</td>\n",
       "      <td>two-sided</td>\n",
       "      <td>2.486212e-122</td>\n",
       "      <td>[814.1, 893.22]</td>\n",
       "      <td>2.566527</td>\n",
       "      <td>2.773e+118</td>\n",
       "      <td>1.0</td>\n",
       "    </tr>\n",
       "  </tbody>\n",
       "</table>\n",
       "</div>"
      ],
      "text/plain": [
       "                T  dof       tail          p-val            CI95%   cohen-d  \\\n",
       "T-test  42.483582  273  two-sided  2.486212e-122  [814.1, 893.22]  2.566527   \n",
       "\n",
       "              BF10  power  \n",
       "T-test  2.773e+118    1.0  "
      ]
     },
     "execution_count": 9,
     "metadata": {},
     "output_type": "execute_result"
    }
   ],
   "source": [
    "pg.ttest(car.price, 0, confidence=0.95)"
   ]
  },
  {
   "cell_type": "markdown",
   "id": "9457e757",
   "metadata": {},
   "source": [
    "### 부트스트래핑"
   ]
  },
  {
   "cell_type": "code",
   "execution_count": 18,
   "id": "246a2421",
   "metadata": {},
   "outputs": [],
   "source": [
    "import numpy as np\n",
    "import matplotlib as plt"
   ]
  },
  {
   "cell_type": "code",
   "execution_count": 19,
   "id": "7e77df2c",
   "metadata": {},
   "outputs": [
    {
     "data": {
      "text/plain": [
       "853.6605839416059"
      ]
     },
     "execution_count": 19,
     "metadata": {},
     "output_type": "execute_result"
    }
   ],
   "source": [
    "data = car.price\n",
    "data.mean()"
   ]
  },
  {
   "cell_type": "code",
   "execution_count": 20,
   "id": "9d50fd63",
   "metadata": {},
   "outputs": [],
   "source": [
    "x = np.random.choice(data, size=len(data))"
   ]
  },
  {
   "cell_type": "code",
   "execution_count": 21,
   "id": "1140b85c",
   "metadata": {},
   "outputs": [
    {
     "ename": "AttributeError",
     "evalue": "module 'matplotlib' has no attribute 'hist'",
     "output_type": "error",
     "traceback": [
      "\u001b[0;31m---------------------------------------------------------------------------\u001b[0m",
      "\u001b[0;31mAttributeError\u001b[0m                            Traceback (most recent call last)",
      "\u001b[0;32m<ipython-input-21-4e5d278158bc>\u001b[0m in \u001b[0;36m<module>\u001b[0;34m\u001b[0m\n\u001b[1;32m      5\u001b[0m     \u001b[0mms\u001b[0m\u001b[0;34m.\u001b[0m\u001b[0mappend\u001b[0m\u001b[0;34m(\u001b[0m\u001b[0mm\u001b[0m\u001b[0;34m)\u001b[0m\u001b[0;34m\u001b[0m\u001b[0;34m\u001b[0m\u001b[0m\n\u001b[1;32m      6\u001b[0m \u001b[0;34m\u001b[0m\u001b[0m\n\u001b[0;32m----> 7\u001b[0;31m \u001b[0mplt\u001b[0m\u001b[0;34m.\u001b[0m\u001b[0mhist\u001b[0m\u001b[0;34m(\u001b[0m\u001b[0mms\u001b[0m\u001b[0;34m)\u001b[0m\u001b[0;34m\u001b[0m\u001b[0;34m\u001b[0m\u001b[0m\n\u001b[0m",
      "\u001b[0;31mAttributeError\u001b[0m: module 'matplotlib' has no attribute 'hist'"
     ]
    }
   ],
   "source": [
    "ms = []\n",
    "for _ in range(10000):\n",
    "    x = np.random.choice(data, size=len(data))\n",
    "    m = x.mean()\n",
    "    ms.append(m)\n",
    "    \n",
    "plt.hist(ms)"
   ]
  },
  {
   "cell_type": "code",
   "execution_count": null,
   "id": "ace9fc22",
   "metadata": {},
   "outputs": [],
   "source": [
    "np.quantile(ms, [.025, .975])"
   ]
  },
  {
   "cell_type": "markdown",
   "id": "2b06ee52",
   "metadata": {},
   "source": [
    "# 연습문제"
   ]
  },
  {
   "cell_type": "code",
   "execution_count": 39,
   "id": "b3b48353",
   "metadata": {
    "scrolled": true
   },
   "outputs": [
    {
     "data": {
      "text/html": [
       "<div>\n",
       "<style scoped>\n",
       "    .dataframe tbody tr th:only-of-type {\n",
       "        vertical-align: middle;\n",
       "    }\n",
       "\n",
       "    .dataframe tbody tr th {\n",
       "        vertical-align: top;\n",
       "    }\n",
       "\n",
       "    .dataframe thead th {\n",
       "        text-align: right;\n",
       "    }\n",
       "</style>\n",
       "<table border=\"1\" class=\"dataframe\">\n",
       "  <thead>\n",
       "    <tr style=\"text-align: right;\">\n",
       "      <th></th>\n",
       "      <th>risk</th>\n",
       "      <th>fuel</th>\n",
       "      <th>aspiration</th>\n",
       "      <th>doors</th>\n",
       "      <th>body</th>\n",
       "      <th>wheels</th>\n",
       "      <th>engine_location</th>\n",
       "      <th>wheel_base</th>\n",
       "      <th>length</th>\n",
       "      <th>width</th>\n",
       "      <th>height</th>\n",
       "      <th>curb_weight</th>\n",
       "      <th>bore</th>\n",
       "      <th>stroke</th>\n",
       "      <th>compression_ratio</th>\n",
       "      <th>horsepower</th>\n",
       "      <th>peak_rpm</th>\n",
       "      <th>city_mpg</th>\n",
       "      <th>highway_mpg</th>\n",
       "    </tr>\n",
       "  </thead>\n",
       "  <tbody>\n",
       "    <tr>\n",
       "      <th>0</th>\n",
       "      <td>2</td>\n",
       "      <td>gas</td>\n",
       "      <td>std</td>\n",
       "      <td>four</td>\n",
       "      <td>sedan</td>\n",
       "      <td>fwd</td>\n",
       "      <td>front</td>\n",
       "      <td>99.8</td>\n",
       "      <td>176.6</td>\n",
       "      <td>66.2</td>\n",
       "      <td>54.3</td>\n",
       "      <td>2337</td>\n",
       "      <td>3.19</td>\n",
       "      <td>3.4</td>\n",
       "      <td>10.0</td>\n",
       "      <td>102</td>\n",
       "      <td>5500</td>\n",
       "      <td>24</td>\n",
       "      <td>30</td>\n",
       "    </tr>\n",
       "    <tr>\n",
       "      <th>1</th>\n",
       "      <td>2</td>\n",
       "      <td>gas</td>\n",
       "      <td>std</td>\n",
       "      <td>four</td>\n",
       "      <td>sedan</td>\n",
       "      <td>4wd</td>\n",
       "      <td>front</td>\n",
       "      <td>99.4</td>\n",
       "      <td>176.6</td>\n",
       "      <td>66.4</td>\n",
       "      <td>54.3</td>\n",
       "      <td>2824</td>\n",
       "      <td>3.19</td>\n",
       "      <td>3.4</td>\n",
       "      <td>8.0</td>\n",
       "      <td>115</td>\n",
       "      <td>5500</td>\n",
       "      <td>18</td>\n",
       "      <td>22</td>\n",
       "    </tr>\n",
       "    <tr>\n",
       "      <th>2</th>\n",
       "      <td>1</td>\n",
       "      <td>gas</td>\n",
       "      <td>std</td>\n",
       "      <td>four</td>\n",
       "      <td>sedan</td>\n",
       "      <td>fwd</td>\n",
       "      <td>front</td>\n",
       "      <td>105.8</td>\n",
       "      <td>192.7</td>\n",
       "      <td>71.4</td>\n",
       "      <td>55.7</td>\n",
       "      <td>2844</td>\n",
       "      <td>3.19</td>\n",
       "      <td>3.4</td>\n",
       "      <td>8.5</td>\n",
       "      <td>110</td>\n",
       "      <td>5500</td>\n",
       "      <td>19</td>\n",
       "      <td>25</td>\n",
       "    </tr>\n",
       "    <tr>\n",
       "      <th>3</th>\n",
       "      <td>1</td>\n",
       "      <td>gas</td>\n",
       "      <td>turbo</td>\n",
       "      <td>four</td>\n",
       "      <td>sedan</td>\n",
       "      <td>fwd</td>\n",
       "      <td>front</td>\n",
       "      <td>105.8</td>\n",
       "      <td>192.7</td>\n",
       "      <td>71.4</td>\n",
       "      <td>55.9</td>\n",
       "      <td>3086</td>\n",
       "      <td>3.13</td>\n",
       "      <td>3.4</td>\n",
       "      <td>8.3</td>\n",
       "      <td>140</td>\n",
       "      <td>5500</td>\n",
       "      <td>17</td>\n",
       "      <td>20</td>\n",
       "    </tr>\n",
       "    <tr>\n",
       "      <th>4</th>\n",
       "      <td>2</td>\n",
       "      <td>gas</td>\n",
       "      <td>std</td>\n",
       "      <td>two</td>\n",
       "      <td>sedan</td>\n",
       "      <td>rwd</td>\n",
       "      <td>front</td>\n",
       "      <td>101.2</td>\n",
       "      <td>176.8</td>\n",
       "      <td>64.8</td>\n",
       "      <td>54.3</td>\n",
       "      <td>2395</td>\n",
       "      <td>3.50</td>\n",
       "      <td>2.8</td>\n",
       "      <td>8.8</td>\n",
       "      <td>101</td>\n",
       "      <td>5800</td>\n",
       "      <td>23</td>\n",
       "      <td>29</td>\n",
       "    </tr>\n",
       "  </tbody>\n",
       "</table>\n",
       "</div>"
      ],
      "text/plain": [
       "   risk fuel aspiration doors   body wheels engine_location  wheel_base  \\\n",
       "0     2  gas        std  four  sedan    fwd           front        99.8   \n",
       "1     2  gas        std  four  sedan    4wd           front        99.4   \n",
       "2     1  gas        std  four  sedan    fwd           front       105.8   \n",
       "3     1  gas      turbo  four  sedan    fwd           front       105.8   \n",
       "4     2  gas        std   two  sedan    rwd           front       101.2   \n",
       "\n",
       "   length  width  height  curb_weight  bore  stroke  compression_ratio  \\\n",
       "0   176.6   66.2    54.3         2337  3.19     3.4               10.0   \n",
       "1   176.6   66.4    54.3         2824  3.19     3.4                8.0   \n",
       "2   192.7   71.4    55.7         2844  3.19     3.4                8.5   \n",
       "3   192.7   71.4    55.9         3086  3.13     3.4                8.3   \n",
       "4   176.8   64.8    54.3         2395  3.50     2.8                8.8   \n",
       "\n",
       "   horsepower  peak_rpm  city_mpg  highway_mpg  \n",
       "0         102      5500        24           30  \n",
       "1         115      5500        18           22  \n",
       "2         110      5500        19           25  \n",
       "3         140      5500        17           20  \n",
       "4         101      5800        23           29  "
      ]
     },
     "execution_count": 39,
     "metadata": {},
     "output_type": "execute_result"
    }
   ],
   "source": [
    "sf = pd.read_excel('data/safety.xlsx')\n",
    "sf.head()"
   ]
  },
  {
   "cell_type": "code",
   "execution_count": 48,
   "id": "8bb4ee19",
   "metadata": {},
   "outputs": [
    {
     "data": {
      "text/plain": [
       "65.60754716981134"
      ]
     },
     "execution_count": 48,
     "metadata": {},
     "output_type": "execute_result"
    }
   ],
   "source": [
    "sf.width.mean()"
   ]
  },
  {
   "cell_type": "code",
   "execution_count": 49,
   "id": "81e4f332",
   "metadata": {},
   "outputs": [
    {
     "data": {
      "text/plain": [
       "65.4"
      ]
     },
     "execution_count": 49,
     "metadata": {},
     "output_type": "execute_result"
    }
   ],
   "source": [
    "sf.width.median()"
   ]
  },
  {
   "cell_type": "code",
   "execution_count": 50,
   "id": "bb5c3635",
   "metadata": {},
   "outputs": [
    {
     "data": {
      "text/plain": [
       "0    sedan\n",
       "dtype: object"
      ]
     },
     "execution_count": 50,
     "metadata": {},
     "output_type": "execute_result"
    }
   ],
   "source": [
    "sf.body.mode()"
   ]
  },
  {
   "cell_type": "code",
   "execution_count": 44,
   "id": "dfb651ce",
   "metadata": {},
   "outputs": [
    {
     "data": {
      "text/plain": [
       "11.400000000000006"
      ]
     },
     "execution_count": 44,
     "metadata": {},
     "output_type": "execute_result"
    }
   ],
   "source": [
    "width_range = sf.width.max() - sf.width.min()\n",
    "width_range"
   ]
  },
  {
   "cell_type": "code",
   "execution_count": 46,
   "id": "e6c0f9f0",
   "metadata": {},
   "outputs": [
    {
     "data": {
      "text/plain": [
       "2.5"
      ]
     },
     "execution_count": 46,
     "metadata": {},
     "output_type": "execute_result"
    }
   ],
   "source": [
    "width_iqr = sf.width.quantile(.75) - sf.width.quantile(.25)\n",
    "width_iqr"
   ]
  },
  {
   "cell_type": "code",
   "execution_count": 52,
   "id": "c08766ef",
   "metadata": {},
   "outputs": [
    {
     "data": {
      "text/plain": [
       "3.7942464771913063"
      ]
     },
     "execution_count": 52,
     "metadata": {},
     "output_type": "execute_result"
    }
   ],
   "source": [
    "sf.width.var()"
   ]
  },
  {
   "cell_type": "code",
   "execution_count": 53,
   "id": "66c55f7d",
   "metadata": {},
   "outputs": [
    {
     "data": {
      "text/plain": [
       "1.9478825624742644"
      ]
     },
     "execution_count": 53,
     "metadata": {},
     "output_type": "execute_result"
    }
   ],
   "source": [
    "sf.width.std()"
   ]
  }
 ],
 "metadata": {
  "kernelspec": {
   "display_name": "Python 3",
   "language": "python",
   "name": "python3"
  },
  "language_info": {
   "codemirror_mode": {
    "name": "ipython",
    "version": 3
   },
   "file_extension": ".py",
   "mimetype": "text/x-python",
   "name": "python",
   "nbconvert_exporter": "python",
   "pygments_lexer": "ipython3",
   "version": "3.8.8"
  }
 },
 "nbformat": 4,
 "nbformat_minor": 5
}
