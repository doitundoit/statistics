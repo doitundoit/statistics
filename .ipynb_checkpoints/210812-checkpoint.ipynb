{
 "cells": [
  {
   "cell_type": "code",
   "execution_count": 3,
   "id": "1a4d3dd0",
   "metadata": {},
   "outputs": [],
   "source": [
    "import pandas as pd\n",
    "import matplotlib.pyplot as plt\n",
    "import pingouin as pg"
   ]
  },
  {
   "cell_type": "code",
   "execution_count": 2,
   "id": "31aef118",
   "metadata": {},
   "outputs": [
    {
     "data": {
      "text/html": [
       "<div>\n",
       "<style scoped>\n",
       "    .dataframe tbody tr th:only-of-type {\n",
       "        vertical-align: middle;\n",
       "    }\n",
       "\n",
       "    .dataframe tbody tr th {\n",
       "        vertical-align: top;\n",
       "    }\n",
       "\n",
       "    .dataframe thead th {\n",
       "        text-align: right;\n",
       "    }\n",
       "</style>\n",
       "<table border=\"1\" class=\"dataframe\">\n",
       "  <thead>\n",
       "    <tr style=\"text-align: right;\">\n",
       "      <th></th>\n",
       "      <th>department</th>\n",
       "      <th>job_level</th>\n",
       "      <th>marriage</th>\n",
       "      <th>rating</th>\n",
       "      <th>overtime</th>\n",
       "    </tr>\n",
       "  </thead>\n",
       "  <tbody>\n",
       "    <tr>\n",
       "      <th>0</th>\n",
       "      <td>Sales</td>\n",
       "      <td>Salaried</td>\n",
       "      <td>single</td>\n",
       "      <td>4</td>\n",
       "      <td>14</td>\n",
       "    </tr>\n",
       "    <tr>\n",
       "      <th>1</th>\n",
       "      <td>Engineering</td>\n",
       "      <td>Hourly</td>\n",
       "      <td>single</td>\n",
       "      <td>4</td>\n",
       "      <td>8</td>\n",
       "    </tr>\n",
       "    <tr>\n",
       "      <th>2</th>\n",
       "      <td>Engineering</td>\n",
       "      <td>Hourly</td>\n",
       "      <td>single</td>\n",
       "      <td>4</td>\n",
       "      <td>4</td>\n",
       "    </tr>\n",
       "    <tr>\n",
       "      <th>3</th>\n",
       "      <td>Engineering</td>\n",
       "      <td>Salaried</td>\n",
       "      <td>married</td>\n",
       "      <td>4</td>\n",
       "      <td>0</td>\n",
       "    </tr>\n",
       "    <tr>\n",
       "      <th>4</th>\n",
       "      <td>Engineering</td>\n",
       "      <td>Hourly</td>\n",
       "      <td>married</td>\n",
       "      <td>2</td>\n",
       "      <td>21</td>\n",
       "    </tr>\n",
       "  </tbody>\n",
       "</table>\n",
       "</div>"
      ],
      "text/plain": [
       "    department job_level marriage  rating  overtime\n",
       "0        Sales  Salaried   single       4        14\n",
       "1  Engineering    Hourly   single       4         8\n",
       "2  Engineering    Hourly   single       4         4\n",
       "3  Engineering  Salaried  married       4         0\n",
       "4  Engineering    Hourly  married       2        21"
      ]
     },
     "execution_count": 2,
     "metadata": {},
     "output_type": "execute_result"
    }
   ],
   "source": [
    "hr = pd.read_excel('data/hr.xlsx')\n",
    "hr.head()"
   ]
  },
  {
   "cell_type": "code",
   "execution_count": 3,
   "id": "91634894",
   "metadata": {},
   "outputs": [
    {
     "data": {
      "text/plain": [
       "9.153061224489797"
      ]
     },
     "execution_count": 3,
     "metadata": {},
     "output_type": "execute_result"
    }
   ],
   "source": [
    "hr.overtime.mean()"
   ]
  },
  {
   "cell_type": "code",
   "execution_count": 4,
   "id": "3fca64a7",
   "metadata": {},
   "outputs": [
    {
     "data": {
      "text/plain": [
       "6.0"
      ]
     },
     "execution_count": 4,
     "metadata": {},
     "output_type": "execute_result"
    }
   ],
   "source": [
    "hr.overtime.median()"
   ]
  },
  {
   "cell_type": "code",
   "execution_count": 5,
   "id": "0756ca54",
   "metadata": {},
   "outputs": [
    {
     "data": {
      "text/plain": [
       "0    Engineering\n",
       "dtype: object"
      ]
     },
     "execution_count": 5,
     "metadata": {},
     "output_type": "execute_result"
    }
   ],
   "source": [
    "hr.department.mode()"
   ]
  },
  {
   "cell_type": "code",
   "execution_count": 7,
   "id": "5a96ffb5",
   "metadata": {},
   "outputs": [
    {
     "data": {
      "text/plain": [
       "(0    10\n",
       " 1    20\n",
       " 2    30\n",
       " 3    40\n",
       " 4    50\n",
       " dtype: int64,\n",
       " 0    10\n",
       " 1    30\n",
       " 2    30\n",
       " 3    30\n",
       " 4    50\n",
       " dtype: int64)"
      ]
     },
     "execution_count": 7,
     "metadata": {},
     "output_type": "execute_result"
    }
   ],
   "source": [
    "a = pd.Series([10, 20, 30, 40, 50])\n",
    "b = pd.Series([10, 30, 30, 30, 50])\n",
    "\n",
    "a, b"
   ]
  },
  {
   "cell_type": "code",
   "execution_count": 8,
   "id": "e206264c",
   "metadata": {},
   "outputs": [
    {
     "data": {
      "text/plain": [
       "(40, 40)"
      ]
     },
     "execution_count": 8,
     "metadata": {},
     "output_type": "execute_result"
    }
   ],
   "source": [
    "a.max() - a.min(), b.max() - b.min()"
   ]
  },
  {
   "cell_type": "code",
   "execution_count": 9,
   "id": "fc6c84e1",
   "metadata": {},
   "outputs": [
    {
     "data": {
      "text/plain": [
       "(250.0, 200.0)"
      ]
     },
     "execution_count": 9,
     "metadata": {},
     "output_type": "execute_result"
    }
   ],
   "source": [
    "a.var(), b.var()"
   ]
  },
  {
   "cell_type": "code",
   "execution_count": 10,
   "id": "b31267d1",
   "metadata": {},
   "outputs": [
    {
     "data": {
      "text/plain": [
       "55"
      ]
     },
     "execution_count": 10,
     "metadata": {},
     "output_type": "execute_result"
    }
   ],
   "source": [
    "hr.overtime.max() - hr.overtime.min()"
   ]
  },
  {
   "cell_type": "code",
   "execution_count": 11,
   "id": "89be0b61",
   "metadata": {},
   "outputs": [
    {
     "data": {
      "text/plain": [
       "11.0"
      ]
     },
     "execution_count": 11,
     "metadata": {},
     "output_type": "execute_result"
    }
   ],
   "source": [
    "hr.overtime.quantile(0.75) - hr.overtime.quantile(0.25)"
   ]
  },
  {
   "cell_type": "code",
   "execution_count": 12,
   "id": "1b4853c3",
   "metadata": {},
   "outputs": [
    {
     "data": {
      "text/plain": [
       "89.51161417596366"
      ]
     },
     "execution_count": 12,
     "metadata": {},
     "output_type": "execute_result"
    }
   ],
   "source": [
    "hr.overtime.var()"
   ]
  },
  {
   "cell_type": "markdown",
   "id": "9c14d43a",
   "metadata": {},
   "source": [
    "# 가설 검정(t-test, p-value)"
   ]
  },
  {
   "cell_type": "code",
   "execution_count": 13,
   "id": "a4ce0fad",
   "metadata": {},
   "outputs": [
    {
     "data": {
      "text/html": [
       "<div>\n",
       "<style scoped>\n",
       "    .dataframe tbody tr th:only-of-type {\n",
       "        vertical-align: middle;\n",
       "    }\n",
       "\n",
       "    .dataframe tbody tr th {\n",
       "        vertical-align: top;\n",
       "    }\n",
       "\n",
       "    .dataframe thead th {\n",
       "        text-align: right;\n",
       "    }\n",
       "</style>\n",
       "<table border=\"1\" class=\"dataframe\">\n",
       "  <thead>\n",
       "    <tr style=\"text-align: right;\">\n",
       "      <th></th>\n",
       "      <th>T</th>\n",
       "      <th>dof</th>\n",
       "      <th>tail</th>\n",
       "      <th>p-val</th>\n",
       "      <th>CI95%</th>\n",
       "      <th>cohen-d</th>\n",
       "      <th>BF10</th>\n",
       "      <th>power</th>\n",
       "    </tr>\n",
       "  </thead>\n",
       "  <tbody>\n",
       "    <tr>\n",
       "      <th>T-test</th>\n",
       "      <td>37.092435</td>\n",
       "      <td>1469</td>\n",
       "      <td>two-sided</td>\n",
       "      <td>4.434347e-213</td>\n",
       "      <td>[8.67, 9.64]</td>\n",
       "      <td>0.967446</td>\n",
       "      <td>9.627e+208</td>\n",
       "      <td>1.0</td>\n",
       "    </tr>\n",
       "  </tbody>\n",
       "</table>\n",
       "</div>"
      ],
      "text/plain": [
       "                T   dof       tail          p-val         CI95%   cohen-d  \\\n",
       "T-test  37.092435  1469  two-sided  4.434347e-213  [8.67, 9.64]  0.967446   \n",
       "\n",
       "              BF10  power  \n",
       "T-test  9.627e+208    1.0  "
      ]
     },
     "execution_count": 13,
     "metadata": {},
     "output_type": "execute_result"
    }
   ],
   "source": [
    "# 귀무가설: \"사람들의 야근 시간은 0이다(overtime = 0).\"\n",
    "pg.ttest(hr.overtime, 0, confidence=0.95) "
   ]
  },
  {
   "cell_type": "code",
   "execution_count": 14,
   "id": "e0e1a93d",
   "metadata": {
    "scrolled": true
   },
   "outputs": [
    {
     "data": {
      "text/html": [
       "<div>\n",
       "<style scoped>\n",
       "    .dataframe tbody tr th:only-of-type {\n",
       "        vertical-align: middle;\n",
       "    }\n",
       "\n",
       "    .dataframe tbody tr th {\n",
       "        vertical-align: top;\n",
       "    }\n",
       "\n",
       "    .dataframe thead th {\n",
       "        text-align: right;\n",
       "    }\n",
       "</style>\n",
       "<table border=\"1\" class=\"dataframe\">\n",
       "  <thead>\n",
       "    <tr style=\"text-align: right;\">\n",
       "      <th></th>\n",
       "      <th>T</th>\n",
       "      <th>dof</th>\n",
       "      <th>tail</th>\n",
       "      <th>p-val</th>\n",
       "      <th>CI99%</th>\n",
       "      <th>cohen-d</th>\n",
       "      <th>BF10</th>\n",
       "      <th>power</th>\n",
       "    </tr>\n",
       "  </thead>\n",
       "  <tbody>\n",
       "    <tr>\n",
       "      <th>T-test</th>\n",
       "      <td>37.092435</td>\n",
       "      <td>1469</td>\n",
       "      <td>two-sided</td>\n",
       "      <td>4.434347e-213</td>\n",
       "      <td>[8.516613519590663, 9.789508929388928]</td>\n",
       "      <td>0.967446</td>\n",
       "      <td>9.627e+208</td>\n",
       "      <td>1.0</td>\n",
       "    </tr>\n",
       "  </tbody>\n",
       "</table>\n",
       "</div>"
      ],
      "text/plain": [
       "                T   dof       tail          p-val  \\\n",
       "T-test  37.092435  1469  two-sided  4.434347e-213   \n",
       "\n",
       "                                         CI99%   cohen-d        BF10  power  \n",
       "T-test  [8.516613519590663, 9.789508929388928]  0.967446  9.627e+208    1.0  "
      ]
     },
     "execution_count": 14,
     "metadata": {},
     "output_type": "execute_result"
    }
   ],
   "source": [
    "pg.ttest(hr.overtime, 0, confidence=0.99)"
   ]
  },
  {
   "cell_type": "code",
   "execution_count": 19,
   "id": "00911748",
   "metadata": {},
   "outputs": [
    {
     "data": {
      "text/plain": [
       "T-test    True\n",
       "Name: p-val, dtype: bool"
      ]
     },
     "execution_count": 19,
     "metadata": {},
     "output_type": "execute_result"
    }
   ],
   "source": [
    "# 귀무가설: overtime = 12, 유의수준: 5%\n",
    "p = pg.ttest(hr.overtime, 12, confidence=0.95)['p-val']\n",
    "s = 0.05\n",
    "\n",
    "print(p < s)   # true"
   ]
  },
  {
   "cell_type": "markdown",
   "id": "8575ffa9",
   "metadata": {},
   "source": [
    "# 집단 간 비교"
   ]
  },
  {
   "cell_type": "markdown",
   "id": "6f637498",
   "metadata": {},
   "source": [
    "## 두개 집단 평균 비교: t-test"
   ]
  },
  {
   "cell_type": "code",
   "execution_count": 23,
   "id": "78f6785d",
   "metadata": {},
   "outputs": [
    {
     "data": {
      "text/html": [
       "<div>\n",
       "<style scoped>\n",
       "    .dataframe tbody tr th:only-of-type {\n",
       "        vertical-align: middle;\n",
       "    }\n",
       "\n",
       "    .dataframe tbody tr th {\n",
       "        vertical-align: top;\n",
       "    }\n",
       "\n",
       "    .dataframe thead th {\n",
       "        text-align: right;\n",
       "    }\n",
       "</style>\n",
       "<table border=\"1\" class=\"dataframe\">\n",
       "  <thead>\n",
       "    <tr style=\"text-align: right;\">\n",
       "      <th></th>\n",
       "      <th>mileage</th>\n",
       "      <th>model</th>\n",
       "      <th>price</th>\n",
       "      <th>year</th>\n",
       "      <th>my_car_damage</th>\n",
       "      <th>other_car_damage</th>\n",
       "    </tr>\n",
       "  </thead>\n",
       "  <tbody>\n",
       "    <tr>\n",
       "      <th>0</th>\n",
       "      <td>63608</td>\n",
       "      <td>K3</td>\n",
       "      <td>970</td>\n",
       "      <td>2017</td>\n",
       "      <td>0</td>\n",
       "      <td>564596</td>\n",
       "    </tr>\n",
       "    <tr>\n",
       "      <th>1</th>\n",
       "      <td>69336</td>\n",
       "      <td>K3</td>\n",
       "      <td>1130</td>\n",
       "      <td>2015</td>\n",
       "      <td>1839700</td>\n",
       "      <td>1140150</td>\n",
       "    </tr>\n",
       "    <tr>\n",
       "      <th>2</th>\n",
       "      <td>36000</td>\n",
       "      <td>K3</td>\n",
       "      <td>1380</td>\n",
       "      <td>2016</td>\n",
       "      <td>446520</td>\n",
       "      <td>2244910</td>\n",
       "    </tr>\n",
       "    <tr>\n",
       "      <th>3</th>\n",
       "      <td>19029</td>\n",
       "      <td>K3</td>\n",
       "      <td>1390</td>\n",
       "      <td>2017</td>\n",
       "      <td>889000</td>\n",
       "      <td>4196110</td>\n",
       "    </tr>\n",
       "    <tr>\n",
       "      <th>4</th>\n",
       "      <td>97090</td>\n",
       "      <td>K3</td>\n",
       "      <td>760</td>\n",
       "      <td>2015</td>\n",
       "      <td>2339137</td>\n",
       "      <td>2029570</td>\n",
       "    </tr>\n",
       "  </tbody>\n",
       "</table>\n",
       "</div>"
      ],
      "text/plain": [
       "   mileage model  price  year  my_car_damage  other_car_damage\n",
       "0    63608    K3    970  2017              0            564596\n",
       "1    69336    K3   1130  2015        1839700           1140150\n",
       "2    36000    K3   1380  2016         446520           2244910\n",
       "3    19029    K3   1390  2017         889000           4196110\n",
       "4    97090    K3    760  2015        2339137           2029570"
      ]
     },
     "execution_count": 23,
     "metadata": {},
     "output_type": "execute_result"
    }
   ],
   "source": [
    "car = pd.read_excel('data/car.xlsx')\n",
    "car.head()"
   ]
  },
  {
   "cell_type": "code",
   "execution_count": 27,
   "id": "a6c85bf4",
   "metadata": {},
   "outputs": [
    {
     "data": {
      "text/plain": [
       "(913.8115942028985, 833.4146341463414)"
      ]
     },
     "execution_count": 27,
     "metadata": {},
     "output_type": "execute_result"
    }
   ],
   "source": [
    "k3_price = car.price[car.model == 'K3']\n",
    "avante_price = car.price[car.model == 'Avante']\n",
    "\n",
    "k3_price.mean(), avante_price.mean()"
   ]
  },
  {
   "cell_type": "code",
   "execution_count": 30,
   "id": "c77d12d1",
   "metadata": {},
   "outputs": [
    {
     "data": {
      "text/plain": [
       "T-test    True\n",
       "Name: p-val, dtype: bool"
      ]
     },
     "execution_count": 30,
     "metadata": {},
     "output_type": "execute_result"
    }
   ],
   "source": [
    "# 귀무가설: avante_price.mean() = k3_price.mean()\n",
    "p = pg.ttest(avante_price, k3_price, confidence=0.95)['p-val']\n",
    "s = 0.05\n",
    "\n",
    "p < s"
   ]
  },
  {
   "cell_type": "code",
   "execution_count": 49,
   "id": "0ae3982d",
   "metadata": {},
   "outputs": [
    {
     "data": {
      "text/plain": [
       "(2.745740498034076, 2.9207920792079207)"
      ]
     },
     "execution_count": 49,
     "metadata": {},
     "output_type": "execute_result"
    }
   ],
   "source": [
    "# 귀무가설: single_r.mean() = married_r.mean()\n",
    "single_r = hr.rating[hr.marriage == 'single']\n",
    "married_r = hr.rating[hr.marriage == 'married']\n",
    "\n",
    "single_r.mean(), married_r.mean()"
   ]
  },
  {
   "cell_type": "code",
   "execution_count": 50,
   "id": "62464179",
   "metadata": {},
   "outputs": [
    {
     "data": {
      "text/plain": [
       "T-test    True\n",
       "Name: p-val, dtype: bool"
      ]
     },
     "execution_count": 50,
     "metadata": {},
     "output_type": "execute_result"
    }
   ],
   "source": [
    "p = pg.ttest(single_r, married_r, confidence=0.95)['p-val']\n",
    "s = 0.05\n",
    "\n",
    "p < s"
   ]
  },
  {
   "cell_type": "code",
   "execution_count": 53,
   "id": "d23602d8",
   "metadata": {},
   "outputs": [
    {
     "data": {
      "text/plain": [
       "(9.271297509829619, 9.025459688826025)"
      ]
     },
     "execution_count": 53,
     "metadata": {},
     "output_type": "execute_result"
    }
   ],
   "source": [
    "# 귀무가설: single_o.mean() = married_o.mean()\n",
    "single_o = hr.overtime[hr.marriage == 'single']\n",
    "married_o = hr.overtime[hr.marriage == 'married']\n",
    "\n",
    "single_o.mean(), married_o.mean()"
   ]
  },
  {
   "cell_type": "code",
   "execution_count": 54,
   "id": "f6112179",
   "metadata": {},
   "outputs": [
    {
     "data": {
      "text/plain": [
       "T-test    False\n",
       "Name: p-val, dtype: bool"
      ]
     },
     "execution_count": 54,
     "metadata": {},
     "output_type": "execute_result"
    }
   ],
   "source": [
    "p_ = pg.ttest(single_o, married_o, confidence=0.95)['p-val']\n",
    "s_ = 0.05\n",
    "\n",
    "p_ < s_"
   ]
  },
  {
   "cell_type": "code",
   "execution_count": 59,
   "id": "8187f619",
   "metadata": {},
   "outputs": [
    {
     "data": {
      "text/html": [
       "<div>\n",
       "<style scoped>\n",
       "    .dataframe tbody tr th:only-of-type {\n",
       "        vertical-align: middle;\n",
       "    }\n",
       "\n",
       "    .dataframe tbody tr th {\n",
       "        vertical-align: top;\n",
       "    }\n",
       "\n",
       "    .dataframe thead th {\n",
       "        text-align: right;\n",
       "    }\n",
       "</style>\n",
       "<table border=\"1\" class=\"dataframe\">\n",
       "  <thead>\n",
       "    <tr style=\"text-align: right;\">\n",
       "      <th></th>\n",
       "      <th>rating</th>\n",
       "    </tr>\n",
       "    <tr>\n",
       "      <th>marriage</th>\n",
       "      <th></th>\n",
       "    </tr>\n",
       "  </thead>\n",
       "  <tbody>\n",
       "    <tr>\n",
       "      <th>married</th>\n",
       "      <td>2.920792</td>\n",
       "    </tr>\n",
       "    <tr>\n",
       "      <th>single</th>\n",
       "      <td>2.745740</td>\n",
       "    </tr>\n",
       "  </tbody>\n",
       "</table>\n",
       "</div>"
      ],
      "text/plain": [
       "            rating\n",
       "marriage          \n",
       "married   2.920792\n",
       "single    2.745740"
      ]
     },
     "execution_count": 59,
     "metadata": {},
     "output_type": "execute_result"
    }
   ],
   "source": [
    "# hr.groupby('marriage').rating.mean()\n",
    "hr.groupby('marriage').agg({'rating': 'mean'})"
   ]
  },
  {
   "cell_type": "markdown",
   "id": "bcc46b06",
   "metadata": {},
   "source": [
    "## 효과 크기"
   ]
  },
  {
   "cell_type": "code",
   "execution_count": 60,
   "id": "d6c4ef19",
   "metadata": {},
   "outputs": [
    {
     "data": {
      "text/html": [
       "<div>\n",
       "<style scoped>\n",
       "    .dataframe tbody tr th:only-of-type {\n",
       "        vertical-align: middle;\n",
       "    }\n",
       "\n",
       "    .dataframe tbody tr th {\n",
       "        vertical-align: top;\n",
       "    }\n",
       "\n",
       "    .dataframe thead th {\n",
       "        text-align: right;\n",
       "    }\n",
       "</style>\n",
       "<table border=\"1\" class=\"dataframe\">\n",
       "  <thead>\n",
       "    <tr style=\"text-align: right;\">\n",
       "      <th></th>\n",
       "      <th>T</th>\n",
       "      <th>dof</th>\n",
       "      <th>tail</th>\n",
       "      <th>p-val</th>\n",
       "      <th>CI95%</th>\n",
       "      <th>cohen-d</th>\n",
       "      <th>BF10</th>\n",
       "      <th>power</th>\n",
       "    </tr>\n",
       "  </thead>\n",
       "  <tbody>\n",
       "    <tr>\n",
       "      <th>T-test</th>\n",
       "      <td>-3.126582</td>\n",
       "      <td>1425.438569</td>\n",
       "      <td>two-sided</td>\n",
       "      <td>0.001804</td>\n",
       "      <td>[-0.28, -0.07]</td>\n",
       "      <td>0.163818</td>\n",
       "      <td>7.294</td>\n",
       "      <td>0.88023</td>\n",
       "    </tr>\n",
       "  </tbody>\n",
       "</table>\n",
       "</div>"
      ],
      "text/plain": [
       "               T          dof       tail     p-val           CI95%   cohen-d  \\\n",
       "T-test -3.126582  1425.438569  two-sided  0.001804  [-0.28, -0.07]  0.163818   \n",
       "\n",
       "         BF10    power  \n",
       "T-test  7.294  0.88023  "
      ]
     },
     "execution_count": 60,
     "metadata": {},
     "output_type": "execute_result"
    }
   ],
   "source": [
    "pg.ttest(single_r, married_r, confidence=0.95)"
   ]
  },
  {
   "cell_type": "code",
   "execution_count": 62,
   "id": "8783cbdf",
   "metadata": {},
   "outputs": [
    {
     "data": {
      "text/plain": [
       "0.006664360361763945"
      ]
     },
     "execution_count": 62,
     "metadata": {},
     "output_type": "execute_result"
    }
   ],
   "source": [
    "pg.compute_effsize(single_r, married_r, eftype='eta-square')"
   ]
  },
  {
   "cell_type": "markdown",
   "id": "e522164c",
   "metadata": {},
   "source": [
    "## 분산 분석"
   ]
  },
  {
   "cell_type": "code",
   "execution_count": 64,
   "id": "10ef4446",
   "metadata": {},
   "outputs": [
    {
     "data": {
      "text/html": [
       "<div>\n",
       "<style scoped>\n",
       "    .dataframe tbody tr th:only-of-type {\n",
       "        vertical-align: middle;\n",
       "    }\n",
       "\n",
       "    .dataframe tbody tr th {\n",
       "        vertical-align: top;\n",
       "    }\n",
       "\n",
       "    .dataframe thead th {\n",
       "        text-align: right;\n",
       "    }\n",
       "</style>\n",
       "<table border=\"1\" class=\"dataframe\">\n",
       "  <thead>\n",
       "    <tr style=\"text-align: right;\">\n",
       "      <th></th>\n",
       "      <th>risk</th>\n",
       "      <th>fuel</th>\n",
       "      <th>aspiration</th>\n",
       "      <th>doors</th>\n",
       "      <th>body</th>\n",
       "      <th>wheels</th>\n",
       "      <th>engine_location</th>\n",
       "      <th>wheel_base</th>\n",
       "      <th>length</th>\n",
       "      <th>width</th>\n",
       "      <th>height</th>\n",
       "      <th>curb_weight</th>\n",
       "      <th>bore</th>\n",
       "      <th>stroke</th>\n",
       "      <th>compression_ratio</th>\n",
       "      <th>horsepower</th>\n",
       "      <th>peak_rpm</th>\n",
       "      <th>city_mpg</th>\n",
       "      <th>highway_mpg</th>\n",
       "    </tr>\n",
       "  </thead>\n",
       "  <tbody>\n",
       "    <tr>\n",
       "      <th>0</th>\n",
       "      <td>2</td>\n",
       "      <td>gas</td>\n",
       "      <td>std</td>\n",
       "      <td>four</td>\n",
       "      <td>sedan</td>\n",
       "      <td>fwd</td>\n",
       "      <td>front</td>\n",
       "      <td>99.8</td>\n",
       "      <td>176.6</td>\n",
       "      <td>66.2</td>\n",
       "      <td>54.3</td>\n",
       "      <td>2337</td>\n",
       "      <td>3.19</td>\n",
       "      <td>3.4</td>\n",
       "      <td>10.0</td>\n",
       "      <td>102</td>\n",
       "      <td>5500</td>\n",
       "      <td>24</td>\n",
       "      <td>30</td>\n",
       "    </tr>\n",
       "    <tr>\n",
       "      <th>1</th>\n",
       "      <td>2</td>\n",
       "      <td>gas</td>\n",
       "      <td>std</td>\n",
       "      <td>four</td>\n",
       "      <td>sedan</td>\n",
       "      <td>4wd</td>\n",
       "      <td>front</td>\n",
       "      <td>99.4</td>\n",
       "      <td>176.6</td>\n",
       "      <td>66.4</td>\n",
       "      <td>54.3</td>\n",
       "      <td>2824</td>\n",
       "      <td>3.19</td>\n",
       "      <td>3.4</td>\n",
       "      <td>8.0</td>\n",
       "      <td>115</td>\n",
       "      <td>5500</td>\n",
       "      <td>18</td>\n",
       "      <td>22</td>\n",
       "    </tr>\n",
       "    <tr>\n",
       "      <th>2</th>\n",
       "      <td>1</td>\n",
       "      <td>gas</td>\n",
       "      <td>std</td>\n",
       "      <td>four</td>\n",
       "      <td>sedan</td>\n",
       "      <td>fwd</td>\n",
       "      <td>front</td>\n",
       "      <td>105.8</td>\n",
       "      <td>192.7</td>\n",
       "      <td>71.4</td>\n",
       "      <td>55.7</td>\n",
       "      <td>2844</td>\n",
       "      <td>3.19</td>\n",
       "      <td>3.4</td>\n",
       "      <td>8.5</td>\n",
       "      <td>110</td>\n",
       "      <td>5500</td>\n",
       "      <td>19</td>\n",
       "      <td>25</td>\n",
       "    </tr>\n",
       "    <tr>\n",
       "      <th>3</th>\n",
       "      <td>1</td>\n",
       "      <td>gas</td>\n",
       "      <td>turbo</td>\n",
       "      <td>four</td>\n",
       "      <td>sedan</td>\n",
       "      <td>fwd</td>\n",
       "      <td>front</td>\n",
       "      <td>105.8</td>\n",
       "      <td>192.7</td>\n",
       "      <td>71.4</td>\n",
       "      <td>55.9</td>\n",
       "      <td>3086</td>\n",
       "      <td>3.13</td>\n",
       "      <td>3.4</td>\n",
       "      <td>8.3</td>\n",
       "      <td>140</td>\n",
       "      <td>5500</td>\n",
       "      <td>17</td>\n",
       "      <td>20</td>\n",
       "    </tr>\n",
       "    <tr>\n",
       "      <th>4</th>\n",
       "      <td>2</td>\n",
       "      <td>gas</td>\n",
       "      <td>std</td>\n",
       "      <td>two</td>\n",
       "      <td>sedan</td>\n",
       "      <td>rwd</td>\n",
       "      <td>front</td>\n",
       "      <td>101.2</td>\n",
       "      <td>176.8</td>\n",
       "      <td>64.8</td>\n",
       "      <td>54.3</td>\n",
       "      <td>2395</td>\n",
       "      <td>3.50</td>\n",
       "      <td>2.8</td>\n",
       "      <td>8.8</td>\n",
       "      <td>101</td>\n",
       "      <td>5800</td>\n",
       "      <td>23</td>\n",
       "      <td>29</td>\n",
       "    </tr>\n",
       "  </tbody>\n",
       "</table>\n",
       "</div>"
      ],
      "text/plain": [
       "   risk fuel aspiration doors   body wheels engine_location  wheel_base  \\\n",
       "0     2  gas        std  four  sedan    fwd           front        99.8   \n",
       "1     2  gas        std  four  sedan    4wd           front        99.4   \n",
       "2     1  gas        std  four  sedan    fwd           front       105.8   \n",
       "3     1  gas      turbo  four  sedan    fwd           front       105.8   \n",
       "4     2  gas        std   two  sedan    rwd           front       101.2   \n",
       "\n",
       "   length  width  height  curb_weight  bore  stroke  compression_ratio  \\\n",
       "0   176.6   66.2    54.3         2337  3.19     3.4               10.0   \n",
       "1   176.6   66.4    54.3         2824  3.19     3.4                8.0   \n",
       "2   192.7   71.4    55.7         2844  3.19     3.4                8.5   \n",
       "3   192.7   71.4    55.9         3086  3.13     3.4                8.3   \n",
       "4   176.8   64.8    54.3         2395  3.50     2.8                8.8   \n",
       "\n",
       "   horsepower  peak_rpm  city_mpg  highway_mpg  \n",
       "0         102      5500        24           30  \n",
       "1         115      5500        18           22  \n",
       "2         110      5500        19           25  \n",
       "3         140      5500        17           20  \n",
       "4         101      5800        23           29  "
      ]
     },
     "execution_count": 64,
     "metadata": {},
     "output_type": "execute_result"
    }
   ],
   "source": [
    "sf = pd.read_excel('data/safety.xlsx')\n",
    "sf.head()"
   ]
  },
  {
   "cell_type": "code",
   "execution_count": 71,
   "id": "2e9acccb",
   "metadata": {},
   "outputs": [
    {
     "data": {
      "text/plain": [
       "0    False\n",
       "Name: p-unc, dtype: bool"
      ]
     },
     "execution_count": 71,
     "metadata": {},
     "output_type": "execute_result"
    }
   ],
   "source": [
    "p = pg.anova(dv='risk', between='wheels', data=sf)['p-unc']\n",
    "s = 0.05\n",
    "\n",
    "p < s"
   ]
  },
  {
   "cell_type": "code",
   "execution_count": 70,
   "id": "9b9068e0",
   "metadata": {},
   "outputs": [
    {
     "data": {
      "text/html": [
       "<div>\n",
       "<style scoped>\n",
       "    .dataframe tbody tr th:only-of-type {\n",
       "        vertical-align: middle;\n",
       "    }\n",
       "\n",
       "    .dataframe tbody tr th {\n",
       "        vertical-align: top;\n",
       "    }\n",
       "\n",
       "    .dataframe thead th {\n",
       "        text-align: right;\n",
       "    }\n",
       "</style>\n",
       "<table border=\"1\" class=\"dataframe\">\n",
       "  <thead>\n",
       "    <tr style=\"text-align: right;\">\n",
       "      <th></th>\n",
       "      <th>Source</th>\n",
       "      <th>ddof1</th>\n",
       "      <th>ddof2</th>\n",
       "      <th>F</th>\n",
       "      <th>p-unc</th>\n",
       "      <th>np2</th>\n",
       "    </tr>\n",
       "  </thead>\n",
       "  <tbody>\n",
       "    <tr>\n",
       "      <th>0</th>\n",
       "      <td>wheels</td>\n",
       "      <td>2</td>\n",
       "      <td>156</td>\n",
       "      <td>2.841743</td>\n",
       "      <td>0.061347</td>\n",
       "      <td>0.035152</td>\n",
       "    </tr>\n",
       "  </tbody>\n",
       "</table>\n",
       "</div>"
      ],
      "text/plain": [
       "   Source  ddof1  ddof2         F     p-unc       np2\n",
       "0  wheels      2    156  2.841743  0.061347  0.035152"
      ]
     },
     "execution_count": 70,
     "metadata": {},
     "output_type": "execute_result"
    }
   ],
   "source": [
    "pg.anova(dv='risk', between='wheels', data=sf)"
   ]
  },
  {
   "cell_type": "code",
   "execution_count": 4,
   "id": "42ed2a0e",
   "metadata": {},
   "outputs": [],
   "source": [
    "?pg.ttest"
   ]
  }
 ],
 "metadata": {
  "kernelspec": {
   "display_name": "Python 3",
   "language": "python",
   "name": "python3"
  },
  "language_info": {
   "codemirror_mode": {
    "name": "ipython",
    "version": 3
   },
   "file_extension": ".py",
   "mimetype": "text/x-python",
   "name": "python",
   "nbconvert_exporter": "python",
   "pygments_lexer": "ipython3",
   "version": "3.8.8"
  }
 },
 "nbformat": 4,
 "nbformat_minor": 5
}
